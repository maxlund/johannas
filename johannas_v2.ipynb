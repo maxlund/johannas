{
 "cells": [
  {
   "cell_type": "code",
   "execution_count": 1,
   "metadata": {},
   "outputs": [],
   "source": [
    "import pandas as pd\n",
    "import numpy as np\n",
    "import matplotlib\n",
    "import matplotlib.pyplot as plt\n",
    "import seaborn as sns\n",
    "%matplotlib inline\n",
    "sns.set()"
   ]
  },
  {
   "cell_type": "code",
   "execution_count": 2,
   "metadata": {},
   "outputs": [],
   "source": [
    "matplotlib.style.use('seaborn-whitegrid')"
   ]
  },
  {
   "cell_type": "code",
   "execution_count": 3,
   "metadata": {},
   "outputs": [],
   "source": [
    "gi = pd.read_excel('giraffe.xlsx')"
   ]
  },
  {
   "cell_type": "code",
   "execution_count": 4,
   "metadata": {},
   "outputs": [
    {
     "name": "stdout",
     "output_type": "stream",
     "text": [
      "giraffe data has 1582 rows\n"
     ]
    }
   ],
   "source": [
    "gi_orig_size = len(gi.index)\n",
    "print(f'giraffe data has {gi_orig_size} rows')"
   ]
  },
  {
   "cell_type": "code",
   "execution_count": 5,
   "metadata": {},
   "outputs": [
    {
     "data": {
      "text/plain": [
       "Index(['DATE', 'DATE.1', 'IMAGE ID', 'INDIVIDUAL', 'CORRIDOR', 'CAMERA',\n",
       "       'HOUR', 'SEX', 'DIRECTION', 'Direction (numerical)', 'IN', 'OUT',\n",
       "       'GROUP SIZE', 'CAMERA TEMPERATURE', 'MOONPHASE', 'Passage W/O along',\n",
       "       'Passage', 'COMMENT', 'MOON LUMINOSITY', 'MEAN TEMP', 'PRESSURE',\n",
       "       'HUMIDITY', 'WIND SPEED', 'CLOUD COVERAGE', 'DATE.2'],\n",
       "      dtype='object')"
      ]
     },
     "execution_count": 5,
     "metadata": {},
     "output_type": "execute_result"
    }
   ],
   "source": [
    "gi.columns"
   ]
  },
  {
   "cell_type": "code",
   "execution_count": 6,
   "metadata": {},
   "outputs": [],
   "source": [
    "# drop irrelevant cols\n",
    "gi = gi.drop(['IMAGE ID', 'INDIVIDUAL', 'CAMERA', \n",
    "             'CAMERA TEMPERATURE','IN', 'OUT', 'COMMENT',\n",
    "              'Direction (numerical)'], axis=1)"
   ]
  },
  {
   "cell_type": "code",
   "execution_count": 7,
   "metadata": {},
   "outputs": [],
   "source": [
    "# drop missing data and outlier\n",
    "gi = gi[(gi.Passage != '*') & (gi.Passage != 713)]\n",
    "gi = gi[gi.Passage.isnull() == False]"
   ]
  },
  {
   "cell_type": "code",
   "execution_count": 8,
   "metadata": {},
   "outputs": [],
   "source": [
    "gi = gi.rename(str.lower, axis='columns')"
   ]
  },
  {
   "cell_type": "code",
   "execution_count": 9,
   "metadata": {},
   "outputs": [],
   "source": [
    "gi = gi.rename(index=str, columns={\n",
    "    'passage w/o along': 'passage_wo'\n",
    "})"
   ]
  },
  {
   "cell_type": "code",
   "execution_count": 10,
   "metadata": {},
   "outputs": [],
   "source": [
    "gi['passage'] = gi['passage'].astype(int)\n",
    "gi['passage_wo'] = gi['passage_wo'].astype(int)"
   ]
  },
  {
   "cell_type": "code",
   "execution_count": 11,
   "metadata": {},
   "outputs": [
    {
     "data": {
      "text/plain": [
       "564"
      ]
     },
     "execution_count": 11,
     "metadata": {},
     "output_type": "execute_result"
    }
   ],
   "source": [
    "gi['passage_wo'].sum()"
   ]
  },
  {
   "cell_type": "code",
   "execution_count": 12,
   "metadata": {},
   "outputs": [
    {
     "data": {
      "text/plain": [
       "group size\n",
       "0.0       0\n",
       "1.0     400\n",
       "2.0      91\n",
       "3.0      28\n",
       "4.0      14\n",
       "5.0      24\n",
       "6.0       6\n",
       "7.0       0\n",
       "8.0       0\n",
       "15.0      0\n",
       "Name: passage_wo, dtype: int64"
      ]
     },
     "execution_count": 12,
     "metadata": {},
     "output_type": "execute_result"
    }
   ],
   "source": [
    "gi.groupby('group size')['passage_wo'].sum()"
   ]
  },
  {
   "cell_type": "code",
   "execution_count": 13,
   "metadata": {},
   "outputs": [
    {
     "data": {
      "text/plain": [
       "447"
      ]
     },
     "execution_count": 13,
     "metadata": {},
     "output_type": "execute_result"
    }
   ],
   "source": [
    "gi[gi.sex == 'M']['passage_wo'].sum()"
   ]
  },
  {
   "cell_type": "code",
   "execution_count": 14,
   "metadata": {},
   "outputs": [
    {
     "data": {
      "text/plain": [
       "320"
      ]
     },
     "execution_count": 14,
     "metadata": {},
     "output_type": "execute_result"
    }
   ],
   "source": [
    "gi[(gi.sex == 'M') & (gi['group size'] == 1)]['passage_wo'].sum()"
   ]
  },
  {
   "cell_type": "code",
   "execution_count": 15,
   "metadata": {},
   "outputs": [
    {
     "data": {
      "text/plain": [
       "sex\n",
       "F     14\n",
       "M    447\n",
       "U    102\n",
       "Name: passage_wo, dtype: int64"
      ]
     },
     "execution_count": 15,
     "metadata": {},
     "output_type": "execute_result"
    }
   ],
   "source": [
    "gi.groupby('sex')['passage_wo'].sum()"
   ]
  },
  {
   "cell_type": "code",
   "execution_count": 16,
   "metadata": {},
   "outputs": [],
   "source": [
    "sex_gs = gi[gi['group size'] <= 3].groupby(['sex', 'group size']).sum()['passage_wo'].reset_index()"
   ]
  },
  {
   "cell_type": "code",
   "execution_count": 17,
   "metadata": {},
   "outputs": [
    {
     "data": {
      "text/html": [
       "<div>\n",
       "<style scoped>\n",
       "    .dataframe tbody tr th:only-of-type {\n",
       "        vertical-align: middle;\n",
       "    }\n",
       "\n",
       "    .dataframe tbody tr th {\n",
       "        vertical-align: top;\n",
       "    }\n",
       "\n",
       "    .dataframe thead th {\n",
       "        text-align: right;\n",
       "    }\n",
       "</style>\n",
       "<table border=\"1\" class=\"dataframe\">\n",
       "  <thead>\n",
       "    <tr style=\"text-align: right;\">\n",
       "      <th></th>\n",
       "      <th>sex</th>\n",
       "      <th>group size</th>\n",
       "      <th>passage_wo</th>\n",
       "    </tr>\n",
       "  </thead>\n",
       "  <tbody>\n",
       "    <tr>\n",
       "      <th>0</th>\n",
       "      <td>F</td>\n",
       "      <td>1.0</td>\n",
       "      <td>5</td>\n",
       "    </tr>\n",
       "    <tr>\n",
       "      <th>1</th>\n",
       "      <td>F</td>\n",
       "      <td>2.0</td>\n",
       "      <td>6</td>\n",
       "    </tr>\n",
       "    <tr>\n",
       "      <th>2</th>\n",
       "      <td>F</td>\n",
       "      <td>3.0</td>\n",
       "      <td>1</td>\n",
       "    </tr>\n",
       "    <tr>\n",
       "      <th>3</th>\n",
       "      <td>M</td>\n",
       "      <td>1.0</td>\n",
       "      <td>320</td>\n",
       "    </tr>\n",
       "    <tr>\n",
       "      <th>4</th>\n",
       "      <td>M</td>\n",
       "      <td>2.0</td>\n",
       "      <td>73</td>\n",
       "    </tr>\n",
       "    <tr>\n",
       "      <th>5</th>\n",
       "      <td>M</td>\n",
       "      <td>3.0</td>\n",
       "      <td>26</td>\n",
       "    </tr>\n",
       "    <tr>\n",
       "      <th>6</th>\n",
       "      <td>U</td>\n",
       "      <td>1.0</td>\n",
       "      <td>75</td>\n",
       "    </tr>\n",
       "    <tr>\n",
       "      <th>7</th>\n",
       "      <td>U</td>\n",
       "      <td>2.0</td>\n",
       "      <td>12</td>\n",
       "    </tr>\n",
       "    <tr>\n",
       "      <th>8</th>\n",
       "      <td>U</td>\n",
       "      <td>3.0</td>\n",
       "      <td>1</td>\n",
       "    </tr>\n",
       "  </tbody>\n",
       "</table>\n",
       "</div>"
      ],
      "text/plain": [
       "  sex  group size  passage_wo\n",
       "0   F         1.0           5\n",
       "1   F         2.0           6\n",
       "2   F         3.0           1\n",
       "3   M         1.0         320\n",
       "4   M         2.0          73\n",
       "5   M         3.0          26\n",
       "6   U         1.0          75\n",
       "7   U         2.0          12\n",
       "8   U         3.0           1"
      ]
     },
     "execution_count": 17,
     "metadata": {},
     "output_type": "execute_result"
    }
   ],
   "source": [
    "sex_gs"
   ]
  },
  {
   "cell_type": "code",
   "execution_count": 18,
   "metadata": {},
   "outputs": [
    {
     "name": "stdout",
     "output_type": "stream",
     "text": [
      "std: 2.160246899469287\n",
      "mean: 4.0\n"
     ]
    }
   ],
   "source": [
    "# females\n",
    "print('std: {}'.format(np.std(sex_gs[sex_gs.sex == 'F']['passage_wo'])))\n",
    "print('mean: {}'.format(np.mean(sex_gs[sex_gs.sex == 'F']['passage_wo'])))"
   ]
  },
  {
   "cell_type": "code",
   "execution_count": 19,
   "metadata": {},
   "outputs": [
    {
     "name": "stdout",
     "output_type": "stream",
     "text": [
      "std: 128.9504642187155\n",
      "mean: 139.66666666666666\n"
     ]
    }
   ],
   "source": [
    "# females\n",
    "print('std: {}'.format(np.std(sex_gs[sex_gs.sex == 'M']['passage_wo'])))\n",
    "print('mean: {}'.format(np.mean(sex_gs[sex_gs.sex == 'M']['passage_wo'])))"
   ]
  },
  {
   "cell_type": "code",
   "execution_count": 20,
   "metadata": {},
   "outputs": [
    {
     "name": "stdout",
     "output_type": "stream",
     "text": [
      "std: 32.601976763516795\n",
      "mean: 29.333333333333332\n"
     ]
    }
   ],
   "source": [
    "# unknown\n",
    "print('std: {}'.format(np.std(sex_gs[sex_gs.sex == 'U']['passage_wo'])))\n",
    "print('mean: {}'.format(np.mean(sex_gs[sex_gs.sex == 'U']['passage_wo'])))"
   ]
  },
  {
   "cell_type": "code",
   "execution_count": 21,
   "metadata": {},
   "outputs": [],
   "source": [
    "all_sex = gi.copy()"
   ]
  },
  {
   "cell_type": "code",
   "execution_count": 22,
   "metadata": {},
   "outputs": [],
   "source": [
    "all_sex['sex'] = 'all'"
   ]
  },
  {
   "cell_type": "code",
   "execution_count": 23,
   "metadata": {},
   "outputs": [],
   "source": [
    "all_sex = all_sex.append(gi)"
   ]
  },
  {
   "cell_type": "code",
   "execution_count": 24,
   "metadata": {},
   "outputs": [],
   "source": [
    "hour_sex = all_sex.groupby(['hour', 'sex']).sum().reset_index()"
   ]
  },
  {
   "cell_type": "code",
   "execution_count": 25,
   "metadata": {},
   "outputs": [
    {
     "data": {
      "image/png": "[encoded data removed]",
      "text/plain": [
       "<Figure size 576x432 with 1 Axes>"
      ]
     },
     "metadata": {},
     "output_type": "display_data"
    }
   ],
   "source": [
    "fig, ax = plt.subplots(1, figsize=(8,6))\n",
    "sns.lineplot(x='hour', y='passage_wo', hue='sex', data=hour_sex, ax=ax, marker='o')\n",
    "_=ax.set_xticks(hour_sex.hour.unique())"
   ]
  },
  {
   "cell_type": "code",
   "execution_count": 26,
   "metadata": {},
   "outputs": [
    {
     "name": "stdout",
     "output_type": "stream",
     "text": [
      "std for M: 12.516031386452603\n",
      "mean for M: 18.625\n",
      "-----------------------------------\n",
      "std for U: 3.875671984744495\n",
      "mean for U: 4.25\n",
      "-----------------------------------\n",
      "std for all: 13.88938193569302\n",
      "mean for all: 23.458333333333332\n",
      "-----------------------------------\n",
      "std for F: 0.7993052538854533\n",
      "mean for F: 1.1666666666666667\n",
      "-----------------------------------\n"
     ]
    }
   ],
   "source": [
    "for sx in hour_sex.sex.unique():\n",
    "    print('std for {}: {}'.format(sx, np.std(hour_sex[hour_sex.sex == sx]['passage_wo'])))\n",
    "    print('mean for {}: {}'.format(sx, np.mean(hour_sex[hour_sex.sex == sx]['passage_wo'])))\n",
    "    print('-'*35)"
   ]
  },
  {
   "cell_type": "code",
   "execution_count": 27,
   "metadata": {},
   "outputs": [],
   "source": [
    "from scipy.stats import ttest_ind"
   ]
  },
  {
   "cell_type": "code",
   "execution_count": 58,
   "metadata": {},
   "outputs": [],
   "source": [
    "early_late = gi[gi.hour.isin([6,7,8,17,18])]\n",
    "rest = gi[~gi.hour.isin([6,7,8,17,18, np.nan])]"
   ]
  },
  {
   "cell_type": "code",
   "execution_count": 62,
   "metadata": {},
   "outputs": [
    {
     "data": {
      "text/plain": [
       "277"
      ]
     },
     "execution_count": 62,
     "metadata": {},
     "output_type": "execute_result"
    }
   ],
   "source": [
    "len(early_late.index)"
   ]
  },
  {
   "cell_type": "code",
   "execution_count": 63,
   "metadata": {},
   "outputs": [
    {
     "data": {
      "text/plain": [
       "435"
      ]
     },
     "execution_count": 63,
     "metadata": {},
     "output_type": "execute_result"
    }
   ],
   "source": [
    "len(rest.index)"
   ]
  },
  {
   "cell_type": "code",
   "execution_count": 60,
   "metadata": {
    "scrolled": true
   },
   "outputs": [
    {
     "data": {
      "text/plain": [
       "Ttest_indResult(statistic=3.4183332169558733, pvalue=0.00066602527835842)"
      ]
     },
     "execution_count": 60,
     "metadata": {},
     "output_type": "execute_result"
    }
   ],
   "source": [
    "ttest_ind(early_late['passage_wo'], rest['passage_wo'], equal_var=True)"
   ]
  },
  {
   "cell_type": "markdown",
   "metadata": {},
   "source": [
    "Student's t-test:\n",
    "$ pvalue = 0.00067 $"
   ]
  },
  {
   "cell_type": "code",
   "execution_count": 61,
   "metadata": {},
   "outputs": [
    {
     "data": {
      "text/plain": [
       "Ttest_indResult(statistic=3.578311267587306, pvalue=0.000370781414677057)"
      ]
     },
     "execution_count": 61,
     "metadata": {},
     "output_type": "execute_result"
    }
   ],
   "source": [
    "ttest_ind(early_late['passage_wo'], rest['passage_wo'], equal_var=False)"
   ]
  },
  {
   "cell_type": "markdown",
   "metadata": {},
   "source": [
    "Welch's t-test:\n",
    "$ pvalue = 0.0004"
   ]
  },
  {
   "cell_type": "code",
   "execution_count": 67,
   "metadata": {},
   "outputs": [
    {
     "data": {
      "text/plain": [
       "array([nan, 'IN', 'OUT', 'ALONG', 'UNKNOWN'], dtype=object)"
      ]
     },
     "execution_count": 67,
     "metadata": {},
     "output_type": "execute_result"
    }
   ],
   "source": [
    "gi.direction.unique()"
   ]
  },
  {
   "cell_type": "code",
   "execution_count": 80,
   "metadata": {},
   "outputs": [],
   "source": [
    "m_in_morning = gi[(gi.sex == 'M') & (gi.direction == 'IN') & (gi.hour.isin([6,7,8]))].groupby('hour').sum()\n",
    "m_in_other = gi[(gi.sex == 'M') & (gi.direction == 'IN') & (~gi.hour.isin([6,7,8, np.nan]))].groupby('hour').sum()"
   ]
  },
  {
   "cell_type": "code",
   "execution_count": 74,
   "metadata": {},
   "outputs": [
    {
     "data": {
      "text/html": [
       "<div>\n",
       "<style scoped>\n",
       "    .dataframe tbody tr th:only-of-type {\n",
       "        vertical-align: middle;\n",
       "    }\n",
       "\n",
       "    .dataframe tbody tr th {\n",
       "        vertical-align: top;\n",
       "    }\n",
       "\n",
       "    .dataframe thead th {\n",
       "        text-align: right;\n",
       "    }\n",
       "</style>\n",
       "<table border=\"1\" class=\"dataframe\">\n",
       "  <thead>\n",
       "    <tr style=\"text-align: right;\">\n",
       "      <th></th>\n",
       "      <th>corridor</th>\n",
       "      <th>group size</th>\n",
       "      <th>moonphase</th>\n",
       "      <th>passage_wo</th>\n",
       "      <th>passage</th>\n",
       "      <th>moon luminosity</th>\n",
       "      <th>mean temp</th>\n",
       "      <th>pressure</th>\n",
       "      <th>humidity</th>\n",
       "      <th>wind speed</th>\n",
       "      <th>cloud coverage</th>\n",
       "    </tr>\n",
       "    <tr>\n",
       "      <th>hour</th>\n",
       "      <th></th>\n",
       "      <th></th>\n",
       "      <th></th>\n",
       "      <th></th>\n",
       "      <th></th>\n",
       "      <th></th>\n",
       "      <th></th>\n",
       "      <th></th>\n",
       "      <th></th>\n",
       "      <th></th>\n",
       "      <th></th>\n",
       "    </tr>\n",
       "  </thead>\n",
       "  <tbody>\n",
       "    <tr>\n",
       "      <th>6.0</th>\n",
       "      <td>59.0</td>\n",
       "      <td>32.0</td>\n",
       "      <td>156.0</td>\n",
       "      <td>30</td>\n",
       "      <td>30</td>\n",
       "      <td>15.7</td>\n",
       "      <td>626.0</td>\n",
       "      <td>30040.0</td>\n",
       "      <td>2090.0</td>\n",
       "      <td>92.5</td>\n",
       "      <td>1490.0</td>\n",
       "    </tr>\n",
       "    <tr>\n",
       "      <th>7.0</th>\n",
       "      <td>87.0</td>\n",
       "      <td>102.0</td>\n",
       "      <td>198.0</td>\n",
       "      <td>44</td>\n",
       "      <td>44</td>\n",
       "      <td>24.8</td>\n",
       "      <td>904.0</td>\n",
       "      <td>42170.0</td>\n",
       "      <td>3000.0</td>\n",
       "      <td>131.9</td>\n",
       "      <td>1820.0</td>\n",
       "    </tr>\n",
       "    <tr>\n",
       "      <th>8.0</th>\n",
       "      <td>45.0</td>\n",
       "      <td>27.0</td>\n",
       "      <td>119.0</td>\n",
       "      <td>22</td>\n",
       "      <td>22</td>\n",
       "      <td>11.6</td>\n",
       "      <td>450.0</td>\n",
       "      <td>22140.0</td>\n",
       "      <td>1500.0</td>\n",
       "      <td>67.9</td>\n",
       "      <td>1050.0</td>\n",
       "    </tr>\n",
       "  </tbody>\n",
       "</table>\n",
       "</div>"
      ],
      "text/plain": [
       "      corridor  group size  moonphase  passage_wo  passage  moon luminosity  \\\n",
       "hour                                                                          \n",
       "6.0       59.0        32.0      156.0          30       30             15.7   \n",
       "7.0       87.0       102.0      198.0          44       44             24.8   \n",
       "8.0       45.0        27.0      119.0          22       22             11.6   \n",
       "\n",
       "      mean temp  pressure  humidity  wind speed  cloud coverage  \n",
       "hour                                                             \n",
       "6.0       626.0   30040.0    2090.0        92.5          1490.0  \n",
       "7.0       904.0   42170.0    3000.0       131.9          1820.0  \n",
       "8.0       450.0   22140.0    1500.0        67.9          1050.0  "
      ]
     },
     "execution_count": 74,
     "metadata": {},
     "output_type": "execute_result"
    }
   ],
   "source": [
    "m_in_morning"
   ]
  },
  {
   "cell_type": "code",
   "execution_count": 75,
   "metadata": {},
   "outputs": [
    {
     "data": {
      "text/html": [
       "<div>\n",
       "<style scoped>\n",
       "    .dataframe tbody tr th:only-of-type {\n",
       "        vertical-align: middle;\n",
       "    }\n",
       "\n",
       "    .dataframe tbody tr th {\n",
       "        vertical-align: top;\n",
       "    }\n",
       "\n",
       "    .dataframe thead th {\n",
       "        text-align: right;\n",
       "    }\n",
       "</style>\n",
       "<table border=\"1\" class=\"dataframe\">\n",
       "  <thead>\n",
       "    <tr style=\"text-align: right;\">\n",
       "      <th></th>\n",
       "      <th>corridor</th>\n",
       "      <th>group size</th>\n",
       "      <th>moonphase</th>\n",
       "      <th>passage_wo</th>\n",
       "      <th>passage</th>\n",
       "      <th>moon luminosity</th>\n",
       "      <th>mean temp</th>\n",
       "      <th>pressure</th>\n",
       "      <th>humidity</th>\n",
       "      <th>wind speed</th>\n",
       "      <th>cloud coverage</th>\n",
       "    </tr>\n",
       "    <tr>\n",
       "      <th>hour</th>\n",
       "      <th></th>\n",
       "      <th></th>\n",
       "      <th></th>\n",
       "      <th></th>\n",
       "      <th></th>\n",
       "      <th></th>\n",
       "      <th></th>\n",
       "      <th></th>\n",
       "      <th></th>\n",
       "      <th></th>\n",
       "      <th></th>\n",
       "    </tr>\n",
       "  </thead>\n",
       "  <tbody>\n",
       "    <tr>\n",
       "      <th>0.0</th>\n",
       "      <td>6.0</td>\n",
       "      <td>3.0</td>\n",
       "      <td>14.0</td>\n",
       "      <td>3</td>\n",
       "      <td>3</td>\n",
       "      <td>2.3</td>\n",
       "      <td>66.0</td>\n",
       "      <td>3050.0</td>\n",
       "      <td>160.0</td>\n",
       "      <td>8.8</td>\n",
       "      <td>100.0</td>\n",
       "    </tr>\n",
       "    <tr>\n",
       "      <th>1.0</th>\n",
       "      <td>6.0</td>\n",
       "      <td>3.0</td>\n",
       "      <td>18.0</td>\n",
       "      <td>3</td>\n",
       "      <td>3</td>\n",
       "      <td>1.9</td>\n",
       "      <td>63.0</td>\n",
       "      <td>3060.0</td>\n",
       "      <td>180.0</td>\n",
       "      <td>8.8</td>\n",
       "      <td>150.0</td>\n",
       "    </tr>\n",
       "    <tr>\n",
       "      <th>2.0</th>\n",
       "      <td>12.0</td>\n",
       "      <td>6.0</td>\n",
       "      <td>28.0</td>\n",
       "      <td>6</td>\n",
       "      <td>6</td>\n",
       "      <td>3.4</td>\n",
       "      <td>120.0</td>\n",
       "      <td>5920.0</td>\n",
       "      <td>460.0</td>\n",
       "      <td>16.2</td>\n",
       "      <td>310.0</td>\n",
       "    </tr>\n",
       "    <tr>\n",
       "      <th>3.0</th>\n",
       "      <td>12.0</td>\n",
       "      <td>8.0</td>\n",
       "      <td>37.0</td>\n",
       "      <td>6</td>\n",
       "      <td>6</td>\n",
       "      <td>3.2</td>\n",
       "      <td>122.0</td>\n",
       "      <td>5740.0</td>\n",
       "      <td>430.0</td>\n",
       "      <td>17.6</td>\n",
       "      <td>280.0</td>\n",
       "    </tr>\n",
       "    <tr>\n",
       "      <th>4.0</th>\n",
       "      <td>10.0</td>\n",
       "      <td>9.0</td>\n",
       "      <td>34.0</td>\n",
       "      <td>5</td>\n",
       "      <td>5</td>\n",
       "      <td>2.9</td>\n",
       "      <td>105.0</td>\n",
       "      <td>5100.0</td>\n",
       "      <td>310.0</td>\n",
       "      <td>16.7</td>\n",
       "      <td>240.0</td>\n",
       "    </tr>\n",
       "    <tr>\n",
       "      <th>5.0</th>\n",
       "      <td>9.0</td>\n",
       "      <td>5.0</td>\n",
       "      <td>21.0</td>\n",
       "      <td>5</td>\n",
       "      <td>5</td>\n",
       "      <td>2.5</td>\n",
       "      <td>108.0</td>\n",
       "      <td>5080.0</td>\n",
       "      <td>330.0</td>\n",
       "      <td>14.8</td>\n",
       "      <td>270.0</td>\n",
       "    </tr>\n",
       "    <tr>\n",
       "      <th>9.0</th>\n",
       "      <td>14.0</td>\n",
       "      <td>9.0</td>\n",
       "      <td>13.0</td>\n",
       "      <td>7</td>\n",
       "      <td>7</td>\n",
       "      <td>1.7</td>\n",
       "      <td>137.0</td>\n",
       "      <td>6960.0</td>\n",
       "      <td>520.0</td>\n",
       "      <td>20.2</td>\n",
       "      <td>430.0</td>\n",
       "    </tr>\n",
       "    <tr>\n",
       "      <th>10.0</th>\n",
       "      <td>12.0</td>\n",
       "      <td>10.0</td>\n",
       "      <td>33.0</td>\n",
       "      <td>7</td>\n",
       "      <td>7</td>\n",
       "      <td>5.8</td>\n",
       "      <td>132.0</td>\n",
       "      <td>6760.0</td>\n",
       "      <td>510.0</td>\n",
       "      <td>18.5</td>\n",
       "      <td>350.0</td>\n",
       "    </tr>\n",
       "    <tr>\n",
       "      <th>11.0</th>\n",
       "      <td>12.0</td>\n",
       "      <td>12.0</td>\n",
       "      <td>22.0</td>\n",
       "      <td>6</td>\n",
       "      <td>6</td>\n",
       "      <td>2.8</td>\n",
       "      <td>116.0</td>\n",
       "      <td>5690.0</td>\n",
       "      <td>440.0</td>\n",
       "      <td>14.8</td>\n",
       "      <td>330.0</td>\n",
       "    </tr>\n",
       "    <tr>\n",
       "      <th>12.0</th>\n",
       "      <td>12.0</td>\n",
       "      <td>17.0</td>\n",
       "      <td>17.0</td>\n",
       "      <td>6</td>\n",
       "      <td>6</td>\n",
       "      <td>2.5</td>\n",
       "      <td>114.0</td>\n",
       "      <td>6120.0</td>\n",
       "      <td>420.0</td>\n",
       "      <td>15.7</td>\n",
       "      <td>280.0</td>\n",
       "    </tr>\n",
       "    <tr>\n",
       "      <th>13.0</th>\n",
       "      <td>20.0</td>\n",
       "      <td>24.0</td>\n",
       "      <td>23.0</td>\n",
       "      <td>10</td>\n",
       "      <td>10</td>\n",
       "      <td>1.9</td>\n",
       "      <td>205.0</td>\n",
       "      <td>10180.0</td>\n",
       "      <td>770.0</td>\n",
       "      <td>29.9</td>\n",
       "      <td>570.0</td>\n",
       "    </tr>\n",
       "    <tr>\n",
       "      <th>14.0</th>\n",
       "      <td>8.0</td>\n",
       "      <td>5.0</td>\n",
       "      <td>20.0</td>\n",
       "      <td>4</td>\n",
       "      <td>4</td>\n",
       "      <td>3.7</td>\n",
       "      <td>85.0</td>\n",
       "      <td>3990.0</td>\n",
       "      <td>270.0</td>\n",
       "      <td>12.8</td>\n",
       "      <td>160.0</td>\n",
       "    </tr>\n",
       "    <tr>\n",
       "      <th>15.0</th>\n",
       "      <td>6.0</td>\n",
       "      <td>3.0</td>\n",
       "      <td>8.0</td>\n",
       "      <td>3</td>\n",
       "      <td>3</td>\n",
       "      <td>1.1</td>\n",
       "      <td>53.0</td>\n",
       "      <td>2880.0</td>\n",
       "      <td>250.0</td>\n",
       "      <td>5.8</td>\n",
       "      <td>250.0</td>\n",
       "    </tr>\n",
       "    <tr>\n",
       "      <th>16.0</th>\n",
       "      <td>12.0</td>\n",
       "      <td>8.0</td>\n",
       "      <td>18.0</td>\n",
       "      <td>6</td>\n",
       "      <td>6</td>\n",
       "      <td>2.7</td>\n",
       "      <td>123.0</td>\n",
       "      <td>5840.0</td>\n",
       "      <td>360.0</td>\n",
       "      <td>14.1</td>\n",
       "      <td>270.0</td>\n",
       "    </tr>\n",
       "    <tr>\n",
       "      <th>17.0</th>\n",
       "      <td>34.0</td>\n",
       "      <td>43.0</td>\n",
       "      <td>80.0</td>\n",
       "      <td>18</td>\n",
       "      <td>18</td>\n",
       "      <td>6.4</td>\n",
       "      <td>341.0</td>\n",
       "      <td>17490.0</td>\n",
       "      <td>1220.0</td>\n",
       "      <td>43.9</td>\n",
       "      <td>840.0</td>\n",
       "    </tr>\n",
       "    <tr>\n",
       "      <th>18.0</th>\n",
       "      <td>14.0</td>\n",
       "      <td>7.0</td>\n",
       "      <td>36.0</td>\n",
       "      <td>7</td>\n",
       "      <td>7</td>\n",
       "      <td>2.8</td>\n",
       "      <td>147.0</td>\n",
       "      <td>7140.0</td>\n",
       "      <td>470.0</td>\n",
       "      <td>21.2</td>\n",
       "      <td>360.0</td>\n",
       "    </tr>\n",
       "    <tr>\n",
       "      <th>19.0</th>\n",
       "      <td>10.0</td>\n",
       "      <td>5.0</td>\n",
       "      <td>17.0</td>\n",
       "      <td>5</td>\n",
       "      <td>5</td>\n",
       "      <td>2.5</td>\n",
       "      <td>108.0</td>\n",
       "      <td>4900.0</td>\n",
       "      <td>290.0</td>\n",
       "      <td>17.0</td>\n",
       "      <td>150.0</td>\n",
       "    </tr>\n",
       "    <tr>\n",
       "      <th>20.0</th>\n",
       "      <td>2.0</td>\n",
       "      <td>2.0</td>\n",
       "      <td>5.0</td>\n",
       "      <td>1</td>\n",
       "      <td>1</td>\n",
       "      <td>1.0</td>\n",
       "      <td>20.0</td>\n",
       "      <td>1020.0</td>\n",
       "      <td>60.0</td>\n",
       "      <td>4.9</td>\n",
       "      <td>20.0</td>\n",
       "    </tr>\n",
       "    <tr>\n",
       "      <th>21.0</th>\n",
       "      <td>8.0</td>\n",
       "      <td>4.0</td>\n",
       "      <td>13.0</td>\n",
       "      <td>4</td>\n",
       "      <td>4</td>\n",
       "      <td>2.3</td>\n",
       "      <td>77.0</td>\n",
       "      <td>3890.0</td>\n",
       "      <td>320.0</td>\n",
       "      <td>10.9</td>\n",
       "      <td>230.0</td>\n",
       "    </tr>\n",
       "    <tr>\n",
       "      <th>22.0</th>\n",
       "      <td>8.0</td>\n",
       "      <td>4.0</td>\n",
       "      <td>11.0</td>\n",
       "      <td>4</td>\n",
       "      <td>4</td>\n",
       "      <td>1.9</td>\n",
       "      <td>86.0</td>\n",
       "      <td>4070.0</td>\n",
       "      <td>280.0</td>\n",
       "      <td>15.8</td>\n",
       "      <td>210.0</td>\n",
       "    </tr>\n",
       "    <tr>\n",
       "      <th>23.0</th>\n",
       "      <td>8.0</td>\n",
       "      <td>4.0</td>\n",
       "      <td>17.0</td>\n",
       "      <td>4</td>\n",
       "      <td>4</td>\n",
       "      <td>2.9</td>\n",
       "      <td>84.0</td>\n",
       "      <td>3880.0</td>\n",
       "      <td>280.0</td>\n",
       "      <td>12.3</td>\n",
       "      <td>190.0</td>\n",
       "    </tr>\n",
       "  </tbody>\n",
       "</table>\n",
       "</div>"
      ],
      "text/plain": [
       "      corridor  group size  moonphase  passage_wo  passage  moon luminosity  \\\n",
       "hour                                                                          \n",
       "0.0        6.0         3.0       14.0           3        3              2.3   \n",
       "1.0        6.0         3.0       18.0           3        3              1.9   \n",
       "2.0       12.0         6.0       28.0           6        6              3.4   \n",
       "3.0       12.0         8.0       37.0           6        6              3.2   \n",
       "4.0       10.0         9.0       34.0           5        5              2.9   \n",
       "5.0        9.0         5.0       21.0           5        5              2.5   \n",
       "9.0       14.0         9.0       13.0           7        7              1.7   \n",
       "10.0      12.0        10.0       33.0           7        7              5.8   \n",
       "11.0      12.0        12.0       22.0           6        6              2.8   \n",
       "12.0      12.0        17.0       17.0           6        6              2.5   \n",
       "13.0      20.0        24.0       23.0          10       10              1.9   \n",
       "14.0       8.0         5.0       20.0           4        4              3.7   \n",
       "15.0       6.0         3.0        8.0           3        3              1.1   \n",
       "16.0      12.0         8.0       18.0           6        6              2.7   \n",
       "17.0      34.0        43.0       80.0          18       18              6.4   \n",
       "18.0      14.0         7.0       36.0           7        7              2.8   \n",
       "19.0      10.0         5.0       17.0           5        5              2.5   \n",
       "20.0       2.0         2.0        5.0           1        1              1.0   \n",
       "21.0       8.0         4.0       13.0           4        4              2.3   \n",
       "22.0       8.0         4.0       11.0           4        4              1.9   \n",
       "23.0       8.0         4.0       17.0           4        4              2.9   \n",
       "\n",
       "      mean temp  pressure  humidity  wind speed  cloud coverage  \n",
       "hour                                                             \n",
       "0.0        66.0    3050.0     160.0         8.8           100.0  \n",
       "1.0        63.0    3060.0     180.0         8.8           150.0  \n",
       "2.0       120.0    5920.0     460.0        16.2           310.0  \n",
       "3.0       122.0    5740.0     430.0        17.6           280.0  \n",
       "4.0       105.0    5100.0     310.0        16.7           240.0  \n",
       "5.0       108.0    5080.0     330.0        14.8           270.0  \n",
       "9.0       137.0    6960.0     520.0        20.2           430.0  \n",
       "10.0      132.0    6760.0     510.0        18.5           350.0  \n",
       "11.0      116.0    5690.0     440.0        14.8           330.0  \n",
       "12.0      114.0    6120.0     420.0        15.7           280.0  \n",
       "13.0      205.0   10180.0     770.0        29.9           570.0  \n",
       "14.0       85.0    3990.0     270.0        12.8           160.0  \n",
       "15.0       53.0    2880.0     250.0         5.8           250.0  \n",
       "16.0      123.0    5840.0     360.0        14.1           270.0  \n",
       "17.0      341.0   17490.0    1220.0        43.9           840.0  \n",
       "18.0      147.0    7140.0     470.0        21.2           360.0  \n",
       "19.0      108.0    4900.0     290.0        17.0           150.0  \n",
       "20.0       20.0    1020.0      60.0         4.9            20.0  \n",
       "21.0       77.0    3890.0     320.0        10.9           230.0  \n",
       "22.0       86.0    4070.0     280.0        15.8           210.0  \n",
       "23.0       84.0    3880.0     280.0        12.3           190.0  "
      ]
     },
     "execution_count": 75,
     "metadata": {},
     "output_type": "execute_result"
    }
   ],
   "source": [
    "m_in_other"
   ]
  },
  {
   "cell_type": "code",
   "execution_count": 76,
   "metadata": {},
   "outputs": [
    {
     "data": {
      "text/plain": [
       "Ttest_indResult(statistic=9.114774795445223, pvalue=6.340146161295359e-09)"
      ]
     },
     "execution_count": 76,
     "metadata": {},
     "output_type": "execute_result"
    }
   ],
   "source": [
    "# student's\n",
    "ttest_ind(m_in_morning['passage_wo'], m_in_other['passage_wo'], equal_var=True)"
   ]
  },
  {
   "cell_type": "code",
   "execution_count": 77,
   "metadata": {},
   "outputs": [
    {
     "data": {
      "text/plain": [
       "Ttest_indResult(statistic=4.061470408253821, pvalue=0.05317739061870289)"
      ]
     },
     "execution_count": 77,
     "metadata": {},
     "output_type": "execute_result"
    }
   ],
   "source": [
    "# welch's\n",
    "ttest_ind(m_in_morning['passage_wo'], m_in_other['passage_wo'], equal_var=False)"
   ]
  },
  {
   "cell_type": "code",
   "execution_count": 79,
   "metadata": {},
   "outputs": [],
   "source": [
    "m_out_evening = gi[(gi.sex == 'M') & (gi.direction == 'OUT') & (gi.hour.isin([16,17,18,19]))].groupby('hour').sum()\n",
    "m_out_other = gi[(gi.sex == 'M') & (gi.direction == 'OUT') & (~gi.hour.isin([16,17,18,19, np.nan]))].groupby('hour').sum()"
   ]
  },
  {
   "cell_type": "code",
   "execution_count": 81,
   "metadata": {},
   "outputs": [
    {
     "data": {
      "text/html": [
       "<div>\n",
       "<style scoped>\n",
       "    .dataframe tbody tr th:only-of-type {\n",
       "        vertical-align: middle;\n",
       "    }\n",
       "\n",
       "    .dataframe tbody tr th {\n",
       "        vertical-align: top;\n",
       "    }\n",
       "\n",
       "    .dataframe thead th {\n",
       "        text-align: right;\n",
       "    }\n",
       "</style>\n",
       "<table border=\"1\" class=\"dataframe\">\n",
       "  <thead>\n",
       "    <tr style=\"text-align: right;\">\n",
       "      <th></th>\n",
       "      <th>corridor</th>\n",
       "      <th>group size</th>\n",
       "      <th>moonphase</th>\n",
       "      <th>passage_wo</th>\n",
       "      <th>passage</th>\n",
       "      <th>moon luminosity</th>\n",
       "      <th>mean temp</th>\n",
       "      <th>pressure</th>\n",
       "      <th>humidity</th>\n",
       "      <th>wind speed</th>\n",
       "      <th>cloud coverage</th>\n",
       "    </tr>\n",
       "    <tr>\n",
       "      <th>hour</th>\n",
       "      <th></th>\n",
       "      <th></th>\n",
       "      <th></th>\n",
       "      <th></th>\n",
       "      <th></th>\n",
       "      <th></th>\n",
       "      <th></th>\n",
       "      <th></th>\n",
       "      <th></th>\n",
       "      <th></th>\n",
       "      <th></th>\n",
       "    </tr>\n",
       "  </thead>\n",
       "  <tbody>\n",
       "    <tr>\n",
       "      <th>16.0</th>\n",
       "      <td>37.0</td>\n",
       "      <td>38.0</td>\n",
       "      <td>55.0</td>\n",
       "      <td>19</td>\n",
       "      <td>19</td>\n",
       "      <td>5.8</td>\n",
       "      <td>386.0</td>\n",
       "      <td>19200.0</td>\n",
       "      <td>1310.0</td>\n",
       "      <td>52.7</td>\n",
       "      <td>920.0</td>\n",
       "    </tr>\n",
       "    <tr>\n",
       "      <th>17.0</th>\n",
       "      <td>40.0</td>\n",
       "      <td>22.0</td>\n",
       "      <td>73.0</td>\n",
       "      <td>20</td>\n",
       "      <td>20</td>\n",
       "      <td>6.8</td>\n",
       "      <td>387.0</td>\n",
       "      <td>19520.0</td>\n",
       "      <td>1450.0</td>\n",
       "      <td>52.9</td>\n",
       "      <td>1160.0</td>\n",
       "    </tr>\n",
       "    <tr>\n",
       "      <th>18.0</th>\n",
       "      <td>62.0</td>\n",
       "      <td>42.0</td>\n",
       "      <td>168.0</td>\n",
       "      <td>32</td>\n",
       "      <td>32</td>\n",
       "      <td>14.5</td>\n",
       "      <td>642.0</td>\n",
       "      <td>31970.0</td>\n",
       "      <td>2250.0</td>\n",
       "      <td>90.7</td>\n",
       "      <td>1750.0</td>\n",
       "    </tr>\n",
       "    <tr>\n",
       "      <th>19.0</th>\n",
       "      <td>23.0</td>\n",
       "      <td>12.0</td>\n",
       "      <td>58.0</td>\n",
       "      <td>12</td>\n",
       "      <td>12</td>\n",
       "      <td>5.7</td>\n",
       "      <td>236.0</td>\n",
       "      <td>11680.0</td>\n",
       "      <td>860.0</td>\n",
       "      <td>32.3</td>\n",
       "      <td>610.0</td>\n",
       "    </tr>\n",
       "  </tbody>\n",
       "</table>\n",
       "</div>"
      ],
      "text/plain": [
       "      corridor  group size  moonphase  passage_wo  passage  moon luminosity  \\\n",
       "hour                                                                          \n",
       "16.0      37.0        38.0       55.0          19       19              5.8   \n",
       "17.0      40.0        22.0       73.0          20       20              6.8   \n",
       "18.0      62.0        42.0      168.0          32       32             14.5   \n",
       "19.0      23.0        12.0       58.0          12       12              5.7   \n",
       "\n",
       "      mean temp  pressure  humidity  wind speed  cloud coverage  \n",
       "hour                                                             \n",
       "16.0      386.0   19200.0    1310.0        52.7           920.0  \n",
       "17.0      387.0   19520.0    1450.0        52.9          1160.0  \n",
       "18.0      642.0   31970.0    2250.0        90.7          1750.0  \n",
       "19.0      236.0   11680.0     860.0        32.3           610.0  "
      ]
     },
     "execution_count": 81,
     "metadata": {},
     "output_type": "execute_result"
    }
   ],
   "source": [
    "m_out_evening"
   ]
  },
  {
   "cell_type": "code",
   "execution_count": 82,
   "metadata": {},
   "outputs": [
    {
     "data": {
      "text/html": [
       "<div>\n",
       "<style scoped>\n",
       "    .dataframe tbody tr th:only-of-type {\n",
       "        vertical-align: middle;\n",
       "    }\n",
       "\n",
       "    .dataframe tbody tr th {\n",
       "        vertical-align: top;\n",
       "    }\n",
       "\n",
       "    .dataframe thead th {\n",
       "        text-align: right;\n",
       "    }\n",
       "</style>\n",
       "<table border=\"1\" class=\"dataframe\">\n",
       "  <thead>\n",
       "    <tr style=\"text-align: right;\">\n",
       "      <th></th>\n",
       "      <th>corridor</th>\n",
       "      <th>group size</th>\n",
       "      <th>moonphase</th>\n",
       "      <th>passage_wo</th>\n",
       "      <th>passage</th>\n",
       "      <th>moon luminosity</th>\n",
       "      <th>mean temp</th>\n",
       "      <th>pressure</th>\n",
       "      <th>humidity</th>\n",
       "      <th>wind speed</th>\n",
       "      <th>cloud coverage</th>\n",
       "    </tr>\n",
       "    <tr>\n",
       "      <th>hour</th>\n",
       "      <th></th>\n",
       "      <th></th>\n",
       "      <th></th>\n",
       "      <th></th>\n",
       "      <th></th>\n",
       "      <th></th>\n",
       "      <th></th>\n",
       "      <th></th>\n",
       "      <th></th>\n",
       "      <th></th>\n",
       "      <th></th>\n",
       "    </tr>\n",
       "  </thead>\n",
       "  <tbody>\n",
       "    <tr>\n",
       "      <th>0.0</th>\n",
       "      <td>12.0</td>\n",
       "      <td>6.0</td>\n",
       "      <td>27.0</td>\n",
       "      <td>6</td>\n",
       "      <td>6</td>\n",
       "      <td>4.0</td>\n",
       "      <td>124.0</td>\n",
       "      <td>5910.0</td>\n",
       "      <td>430.0</td>\n",
       "      <td>22.1</td>\n",
       "      <td>240.0</td>\n",
       "    </tr>\n",
       "    <tr>\n",
       "      <th>1.0</th>\n",
       "      <td>11.0</td>\n",
       "      <td>11.0</td>\n",
       "      <td>24.0</td>\n",
       "      <td>5</td>\n",
       "      <td>5</td>\n",
       "      <td>3.9</td>\n",
       "      <td>103.0</td>\n",
       "      <td>5100.0</td>\n",
       "      <td>390.0</td>\n",
       "      <td>15.1</td>\n",
       "      <td>330.0</td>\n",
       "    </tr>\n",
       "    <tr>\n",
       "      <th>2.0</th>\n",
       "      <td>10.0</td>\n",
       "      <td>5.0</td>\n",
       "      <td>29.0</td>\n",
       "      <td>5</td>\n",
       "      <td>5</td>\n",
       "      <td>2.3</td>\n",
       "      <td>101.0</td>\n",
       "      <td>4980.0</td>\n",
       "      <td>330.0</td>\n",
       "      <td>11.4</td>\n",
       "      <td>260.0</td>\n",
       "    </tr>\n",
       "    <tr>\n",
       "      <th>3.0</th>\n",
       "      <td>6.0</td>\n",
       "      <td>3.0</td>\n",
       "      <td>22.0</td>\n",
       "      <td>3</td>\n",
       "      <td>3</td>\n",
       "      <td>1.2</td>\n",
       "      <td>62.0</td>\n",
       "      <td>3060.0</td>\n",
       "      <td>220.0</td>\n",
       "      <td>11.4</td>\n",
       "      <td>150.0</td>\n",
       "    </tr>\n",
       "    <tr>\n",
       "      <th>5.0</th>\n",
       "      <td>6.0</td>\n",
       "      <td>4.0</td>\n",
       "      <td>16.0</td>\n",
       "      <td>3</td>\n",
       "      <td>3</td>\n",
       "      <td>1.0</td>\n",
       "      <td>62.0</td>\n",
       "      <td>3060.0</td>\n",
       "      <td>220.0</td>\n",
       "      <td>8.8</td>\n",
       "      <td>170.0</td>\n",
       "    </tr>\n",
       "    <tr>\n",
       "      <th>6.0</th>\n",
       "      <td>16.0</td>\n",
       "      <td>11.0</td>\n",
       "      <td>38.0</td>\n",
       "      <td>8</td>\n",
       "      <td>8</td>\n",
       "      <td>3.4</td>\n",
       "      <td>161.0</td>\n",
       "      <td>7880.0</td>\n",
       "      <td>580.0</td>\n",
       "      <td>22.2</td>\n",
       "      <td>390.0</td>\n",
       "    </tr>\n",
       "    <tr>\n",
       "      <th>7.0</th>\n",
       "      <td>14.0</td>\n",
       "      <td>7.0</td>\n",
       "      <td>31.0</td>\n",
       "      <td>7</td>\n",
       "      <td>7</td>\n",
       "      <td>2.8</td>\n",
       "      <td>143.0</td>\n",
       "      <td>7100.0</td>\n",
       "      <td>480.0</td>\n",
       "      <td>22.4</td>\n",
       "      <td>330.0</td>\n",
       "    </tr>\n",
       "    <tr>\n",
       "      <th>8.0</th>\n",
       "      <td>30.0</td>\n",
       "      <td>28.0</td>\n",
       "      <td>55.0</td>\n",
       "      <td>15</td>\n",
       "      <td>15</td>\n",
       "      <td>6.9</td>\n",
       "      <td>307.0</td>\n",
       "      <td>14990.0</td>\n",
       "      <td>1010.0</td>\n",
       "      <td>42.0</td>\n",
       "      <td>670.0</td>\n",
       "    </tr>\n",
       "    <tr>\n",
       "      <th>9.0</th>\n",
       "      <td>11.0</td>\n",
       "      <td>8.0</td>\n",
       "      <td>22.0</td>\n",
       "      <td>6</td>\n",
       "      <td>6</td>\n",
       "      <td>1.9</td>\n",
       "      <td>123.0</td>\n",
       "      <td>6100.0</td>\n",
       "      <td>410.0</td>\n",
       "      <td>19.2</td>\n",
       "      <td>310.0</td>\n",
       "    </tr>\n",
       "    <tr>\n",
       "      <th>10.0</th>\n",
       "      <td>26.0</td>\n",
       "      <td>26.0</td>\n",
       "      <td>60.0</td>\n",
       "      <td>13</td>\n",
       "      <td>13</td>\n",
       "      <td>7.7</td>\n",
       "      <td>260.0</td>\n",
       "      <td>12290.0</td>\n",
       "      <td>860.0</td>\n",
       "      <td>38.9</td>\n",
       "      <td>500.0</td>\n",
       "    </tr>\n",
       "    <tr>\n",
       "      <th>11.0</th>\n",
       "      <td>23.0</td>\n",
       "      <td>19.0</td>\n",
       "      <td>61.0</td>\n",
       "      <td>12</td>\n",
       "      <td>12</td>\n",
       "      <td>6.7</td>\n",
       "      <td>238.0</td>\n",
       "      <td>11780.0</td>\n",
       "      <td>880.0</td>\n",
       "      <td>32.0</td>\n",
       "      <td>670.0</td>\n",
       "    </tr>\n",
       "    <tr>\n",
       "      <th>12.0</th>\n",
       "      <td>24.0</td>\n",
       "      <td>15.0</td>\n",
       "      <td>63.0</td>\n",
       "      <td>12</td>\n",
       "      <td>12</td>\n",
       "      <td>7.9</td>\n",
       "      <td>238.0</td>\n",
       "      <td>11470.0</td>\n",
       "      <td>840.0</td>\n",
       "      <td>27.8</td>\n",
       "      <td>520.0</td>\n",
       "    </tr>\n",
       "    <tr>\n",
       "      <th>13.0</th>\n",
       "      <td>16.0</td>\n",
       "      <td>9.0</td>\n",
       "      <td>41.0</td>\n",
       "      <td>7</td>\n",
       "      <td>8</td>\n",
       "      <td>3.4</td>\n",
       "      <td>169.0</td>\n",
       "      <td>7970.0</td>\n",
       "      <td>540.0</td>\n",
       "      <td>27.5</td>\n",
       "      <td>400.0</td>\n",
       "    </tr>\n",
       "    <tr>\n",
       "      <th>14.0</th>\n",
       "      <td>22.0</td>\n",
       "      <td>15.0</td>\n",
       "      <td>45.0</td>\n",
       "      <td>11</td>\n",
       "      <td>11</td>\n",
       "      <td>6.0</td>\n",
       "      <td>219.0</td>\n",
       "      <td>10740.0</td>\n",
       "      <td>790.0</td>\n",
       "      <td>27.4</td>\n",
       "      <td>550.0</td>\n",
       "    </tr>\n",
       "    <tr>\n",
       "      <th>15.0</th>\n",
       "      <td>24.0</td>\n",
       "      <td>16.0</td>\n",
       "      <td>55.0</td>\n",
       "      <td>12</td>\n",
       "      <td>12</td>\n",
       "      <td>5.1</td>\n",
       "      <td>250.0</td>\n",
       "      <td>12000.0</td>\n",
       "      <td>800.0</td>\n",
       "      <td>39.5</td>\n",
       "      <td>580.0</td>\n",
       "    </tr>\n",
       "    <tr>\n",
       "      <th>20.0</th>\n",
       "      <td>2.0</td>\n",
       "      <td>1.0</td>\n",
       "      <td>1.0</td>\n",
       "      <td>1</td>\n",
       "      <td>1</td>\n",
       "      <td>0.0</td>\n",
       "      <td>22.0</td>\n",
       "      <td>1020.0</td>\n",
       "      <td>60.0</td>\n",
       "      <td>4.1</td>\n",
       "      <td>50.0</td>\n",
       "    </tr>\n",
       "    <tr>\n",
       "      <th>21.0</th>\n",
       "      <td>12.0</td>\n",
       "      <td>8.0</td>\n",
       "      <td>25.0</td>\n",
       "      <td>6</td>\n",
       "      <td>6</td>\n",
       "      <td>3.6</td>\n",
       "      <td>122.0</td>\n",
       "      <td>5730.0</td>\n",
       "      <td>410.0</td>\n",
       "      <td>16.3</td>\n",
       "      <td>290.0</td>\n",
       "    </tr>\n",
       "    <tr>\n",
       "      <th>22.0</th>\n",
       "      <td>17.0</td>\n",
       "      <td>12.0</td>\n",
       "      <td>37.0</td>\n",
       "      <td>10</td>\n",
       "      <td>10</td>\n",
       "      <td>5.8</td>\n",
       "      <td>204.0</td>\n",
       "      <td>9590.0</td>\n",
       "      <td>660.0</td>\n",
       "      <td>28.2</td>\n",
       "      <td>430.0</td>\n",
       "    </tr>\n",
       "    <tr>\n",
       "      <th>23.0</th>\n",
       "      <td>12.0</td>\n",
       "      <td>6.0</td>\n",
       "      <td>23.0</td>\n",
       "      <td>6</td>\n",
       "      <td>6</td>\n",
       "      <td>4.2</td>\n",
       "      <td>129.0</td>\n",
       "      <td>6090.0</td>\n",
       "      <td>400.0</td>\n",
       "      <td>22.5</td>\n",
       "      <td>310.0</td>\n",
       "    </tr>\n",
       "  </tbody>\n",
       "</table>\n",
       "</div>"
      ],
      "text/plain": [
       "      corridor  group size  moonphase  passage_wo  passage  moon luminosity  \\\n",
       "hour                                                                          \n",
       "0.0       12.0         6.0       27.0           6        6              4.0   \n",
       "1.0       11.0        11.0       24.0           5        5              3.9   \n",
       "2.0       10.0         5.0       29.0           5        5              2.3   \n",
       "3.0        6.0         3.0       22.0           3        3              1.2   \n",
       "5.0        6.0         4.0       16.0           3        3              1.0   \n",
       "6.0       16.0        11.0       38.0           8        8              3.4   \n",
       "7.0       14.0         7.0       31.0           7        7              2.8   \n",
       "8.0       30.0        28.0       55.0          15       15              6.9   \n",
       "9.0       11.0         8.0       22.0           6        6              1.9   \n",
       "10.0      26.0        26.0       60.0          13       13              7.7   \n",
       "11.0      23.0        19.0       61.0          12       12              6.7   \n",
       "12.0      24.0        15.0       63.0          12       12              7.9   \n",
       "13.0      16.0         9.0       41.0           7        8              3.4   \n",
       "14.0      22.0        15.0       45.0          11       11              6.0   \n",
       "15.0      24.0        16.0       55.0          12       12              5.1   \n",
       "20.0       2.0         1.0        1.0           1        1              0.0   \n",
       "21.0      12.0         8.0       25.0           6        6              3.6   \n",
       "22.0      17.0        12.0       37.0          10       10              5.8   \n",
       "23.0      12.0         6.0       23.0           6        6              4.2   \n",
       "\n",
       "      mean temp  pressure  humidity  wind speed  cloud coverage  \n",
       "hour                                                             \n",
       "0.0       124.0    5910.0     430.0        22.1           240.0  \n",
       "1.0       103.0    5100.0     390.0        15.1           330.0  \n",
       "2.0       101.0    4980.0     330.0        11.4           260.0  \n",
       "3.0        62.0    3060.0     220.0        11.4           150.0  \n",
       "5.0        62.0    3060.0     220.0         8.8           170.0  \n",
       "6.0       161.0    7880.0     580.0        22.2           390.0  \n",
       "7.0       143.0    7100.0     480.0        22.4           330.0  \n",
       "8.0       307.0   14990.0    1010.0        42.0           670.0  \n",
       "9.0       123.0    6100.0     410.0        19.2           310.0  \n",
       "10.0      260.0   12290.0     860.0        38.9           500.0  \n",
       "11.0      238.0   11780.0     880.0        32.0           670.0  \n",
       "12.0      238.0   11470.0     840.0        27.8           520.0  \n",
       "13.0      169.0    7970.0     540.0        27.5           400.0  \n",
       "14.0      219.0   10740.0     790.0        27.4           550.0  \n",
       "15.0      250.0   12000.0     800.0        39.5           580.0  \n",
       "20.0       22.0    1020.0      60.0         4.1            50.0  \n",
       "21.0      122.0    5730.0     410.0        16.3           290.0  \n",
       "22.0      204.0    9590.0     660.0        28.2           430.0  \n",
       "23.0      129.0    6090.0     400.0        22.5           310.0  "
      ]
     },
     "execution_count": 82,
     "metadata": {},
     "output_type": "execute_result"
    }
   ],
   "source": [
    "m_out_other"
   ]
  },
  {
   "cell_type": "code",
   "execution_count": 87,
   "metadata": {},
   "outputs": [
    {
     "data": {
      "text/plain": [
       "Ttest_indResult(statistic=6.3082325651863576, pvalue=1.9483997590623322e-06)"
      ]
     },
     "execution_count": 87,
     "metadata": {},
     "output_type": "execute_result"
    }
   ],
   "source": [
    "# student's\n",
    "ttest_ind(m_out_evening['passage_wo'], m_in_other['passage_wo'], equal_var=True)"
   ]
  },
  {
   "cell_type": "code",
   "execution_count": 88,
   "metadata": {},
   "outputs": [
    {
     "data": {
      "text/plain": [
       "Ttest_indResult(statistic=3.5655865153957476, pvalue=0.03401399090402557)"
      ]
     },
     "execution_count": 88,
     "metadata": {},
     "output_type": "execute_result"
    }
   ],
   "source": [
    "# welch's\n",
    "ttest_ind(m_out_evening['passage_wo'], m_in_other['passage_wo'], equal_var=False)"
   ]
  },
  {
   "cell_type": "code",
   "execution_count": 89,
   "metadata": {},
   "outputs": [],
   "source": [
    "f_spec = gi[(gi.sex == 'F') & (gi.hour.isin([8,9,10,11,12,13]))].groupby('hour').sum()\n",
    "f_other = gi[(gi.sex == 'F') & (~gi.hour.isin([8,9,10,11,12,13, np.nan]))].groupby('hour').sum()"
   ]
  },
  {
   "cell_type": "code",
   "execution_count": 92,
   "metadata": {},
   "outputs": [
    {
     "data": {
      "text/plain": [
       "Ttest_indResult(statistic=0.9759000729485333, pvalue=0.35213052509665566)"
      ]
     },
     "execution_count": 92,
     "metadata": {},
     "output_type": "execute_result"
    }
   ],
   "source": [
    "# student's\n",
    "ttest_ind(f_spec['passage_wo'], f_other['passage_wo'], equal_var=True)"
   ]
  },
  {
   "cell_type": "code",
   "execution_count": 93,
   "metadata": {
    "scrolled": true
   },
   "outputs": [
    {
     "data": {
      "text/plain": [
       "Ttest_indResult(statistic=0.8819171036881969, pvalue=0.4198561547261228)"
      ]
     },
     "execution_count": 93,
     "metadata": {},
     "output_type": "execute_result"
    }
   ],
   "source": [
    "# student's\n",
    "ttest_ind(f_spec['passage_wo'], f_other['passage_wo'], equal_var=False)"
   ]
  },
  {
   "cell_type": "code",
   "execution_count": 94,
   "metadata": {},
   "outputs": [],
   "source": [
    "in_dir = gi[gi.direction == 'IN'].groupby('hour').sum()['passage_wo']\n",
    "out_dir = gi[gi.direction == 'OUT'].groupby('hour').sum()['passage_wo']\n",
    "all_dir = gi.groupby('hour').sum()['passage_wo']"
   ]
  },
  {
   "cell_type": "code",
   "execution_count": 98,
   "metadata": {},
   "outputs": [
    {
     "name": "stdout",
     "output_type": "stream",
     "text": [
      "std for IN: 11.79681866248505\n",
      "mean for IN: 11.791666666666666\n"
     ]
    }
   ],
   "source": [
    "print('std for {}: {}'.format('IN', np.std(in_dir)))\n",
    "print('mean for {}: {}'.format('IN', np.mean(in_dir)))"
   ]
  },
  {
   "cell_type": "code",
   "execution_count": 99,
   "metadata": {},
   "outputs": [
    {
     "name": "stdout",
     "output_type": "stream",
     "text": [
      "std for OUT: 7.283924461137385\n",
      "mean for OUT: 11.666666666666666\n"
     ]
    }
   ],
   "source": [
    "print('std for {}: {}'.format('OUT', np.std(out_dir)))\n",
    "print('mean for {}: {}'.format('OUT', np.mean(out_dir)))"
   ]
  },
  {
   "cell_type": "code",
   "execution_count": 100,
   "metadata": {},
   "outputs": [
    {
     "name": "stdout",
     "output_type": "stream",
     "text": [
      "std for ALL: 13.88938193569302\n",
      "mean for ALL: 23.458333333333332\n"
     ]
    }
   ],
   "source": [
    "print('std for {}: {}'.format('ALL', np.std(all_dir)))\n",
    "print('mean for {}: {}'.format('ALL', np.mean(all_dir)))"
   ]
  },
  {
   "cell_type": "code",
   "execution_count": 105,
   "metadata": {},
   "outputs": [],
   "source": [
    "# corridor 1+3 vs corridor 2 summed per-month passages\n",
    "one_three = gi[gi.corridor.isin([1,3])].groupby('date.1').sum()\n",
    "two = gi[gi.corridor == 2].groupby('date.1').sum()"
   ]
  },
  {
   "cell_type": "code",
   "execution_count": 106,
   "metadata": {},
   "outputs": [
    {
     "data": {
      "text/html": [
       "<div>\n",
       "<style scoped>\n",
       "    .dataframe tbody tr th:only-of-type {\n",
       "        vertical-align: middle;\n",
       "    }\n",
       "\n",
       "    .dataframe tbody tr th {\n",
       "        vertical-align: top;\n",
       "    }\n",
       "\n",
       "    .dataframe thead th {\n",
       "        text-align: right;\n",
       "    }\n",
       "</style>\n",
       "<table border=\"1\" class=\"dataframe\">\n",
       "  <thead>\n",
       "    <tr style=\"text-align: right;\">\n",
       "      <th></th>\n",
       "      <th>corridor</th>\n",
       "      <th>hour</th>\n",
       "      <th>group size</th>\n",
       "      <th>moonphase</th>\n",
       "      <th>passage_wo</th>\n",
       "      <th>passage</th>\n",
       "      <th>moon luminosity</th>\n",
       "      <th>mean temp</th>\n",
       "      <th>pressure</th>\n",
       "      <th>humidity</th>\n",
       "      <th>wind speed</th>\n",
       "      <th>cloud coverage</th>\n",
       "    </tr>\n",
       "    <tr>\n",
       "      <th>date.1</th>\n",
       "      <th></th>\n",
       "      <th></th>\n",
       "      <th></th>\n",
       "      <th></th>\n",
       "      <th></th>\n",
       "      <th></th>\n",
       "      <th></th>\n",
       "      <th></th>\n",
       "      <th></th>\n",
       "      <th></th>\n",
       "      <th></th>\n",
       "      <th></th>\n",
       "    </tr>\n",
       "  </thead>\n",
       "  <tbody>\n",
       "    <tr>\n",
       "      <th>april</th>\n",
       "      <td>3.0</td>\n",
       "      <td>20.0</td>\n",
       "      <td>1.0</td>\n",
       "      <td>1.0</td>\n",
       "      <td>0</td>\n",
       "      <td>1</td>\n",
       "      <td>0.0</td>\n",
       "      <td>21.0</td>\n",
       "      <td>1010.0</td>\n",
       "      <td>70.0</td>\n",
       "      <td>3.0</td>\n",
       "      <td>40.0</td>\n",
       "    </tr>\n",
       "    <tr>\n",
       "      <th>augusti</th>\n",
       "      <td>9.0</td>\n",
       "      <td>49.0</td>\n",
       "      <td>5.0</td>\n",
       "      <td>18.0</td>\n",
       "      <td>4</td>\n",
       "      <td>5</td>\n",
       "      <td>2.4</td>\n",
       "      <td>92.0</td>\n",
       "      <td>4740.0</td>\n",
       "      <td>340.0</td>\n",
       "      <td>10.7</td>\n",
       "      <td>250.0</td>\n",
       "    </tr>\n",
       "    <tr>\n",
       "      <th>december</th>\n",
       "      <td>19.0</td>\n",
       "      <td>91.0</td>\n",
       "      <td>37.0</td>\n",
       "      <td>35.0</td>\n",
       "      <td>0</td>\n",
       "      <td>7</td>\n",
       "      <td>1.0</td>\n",
       "      <td>153.0</td>\n",
       "      <td>7140.0</td>\n",
       "      <td>490.0</td>\n",
       "      <td>30.8</td>\n",
       "      <td>340.0</td>\n",
       "    </tr>\n",
       "    <tr>\n",
       "      <th>februari</th>\n",
       "      <td>3.0</td>\n",
       "      <td>23.0</td>\n",
       "      <td>1.0</td>\n",
       "      <td>6.0</td>\n",
       "      <td>1</td>\n",
       "      <td>1</td>\n",
       "      <td>1.0</td>\n",
       "      <td>23.0</td>\n",
       "      <td>1010.0</td>\n",
       "      <td>50.0</td>\n",
       "      <td>5.3</td>\n",
       "      <td>50.0</td>\n",
       "    </tr>\n",
       "    <tr>\n",
       "      <th>januari</th>\n",
       "      <td>7.0</td>\n",
       "      <td>15.0</td>\n",
       "      <td>3.0</td>\n",
       "      <td>11.0</td>\n",
       "      <td>2</td>\n",
       "      <td>3</td>\n",
       "      <td>0.9</td>\n",
       "      <td>65.0</td>\n",
       "      <td>3050.0</td>\n",
       "      <td>200.0</td>\n",
       "      <td>10.2</td>\n",
       "      <td>170.0</td>\n",
       "    </tr>\n",
       "    <tr>\n",
       "      <th>juli</th>\n",
       "      <td>26.0</td>\n",
       "      <td>137.0</td>\n",
       "      <td>32.0</td>\n",
       "      <td>30.0</td>\n",
       "      <td>7</td>\n",
       "      <td>12</td>\n",
       "      <td>4.8</td>\n",
       "      <td>221.0</td>\n",
       "      <td>12060.0</td>\n",
       "      <td>850.0</td>\n",
       "      <td>28.4</td>\n",
       "      <td>830.0</td>\n",
       "    </tr>\n",
       "    <tr>\n",
       "      <th>juni</th>\n",
       "      <td>12.0</td>\n",
       "      <td>107.0</td>\n",
       "      <td>12.0</td>\n",
       "      <td>27.0</td>\n",
       "      <td>5</td>\n",
       "      <td>8</td>\n",
       "      <td>5.1</td>\n",
       "      <td>160.0</td>\n",
       "      <td>7800.0</td>\n",
       "      <td>600.0</td>\n",
       "      <td>19.5</td>\n",
       "      <td>450.0</td>\n",
       "    </tr>\n",
       "    <tr>\n",
       "      <th>maj</th>\n",
       "      <td>14.0</td>\n",
       "      <td>163.0</td>\n",
       "      <td>50.0</td>\n",
       "      <td>67.0</td>\n",
       "      <td>4</td>\n",
       "      <td>14</td>\n",
       "      <td>4.9</td>\n",
       "      <td>283.0</td>\n",
       "      <td>14130.0</td>\n",
       "      <td>1070.0</td>\n",
       "      <td>38.1</td>\n",
       "      <td>820.0</td>\n",
       "    </tr>\n",
       "    <tr>\n",
       "      <th>mars</th>\n",
       "      <td>8.0</td>\n",
       "      <td>98.0</td>\n",
       "      <td>6.0</td>\n",
       "      <td>27.0</td>\n",
       "      <td>3</td>\n",
       "      <td>6</td>\n",
       "      <td>4.1</td>\n",
       "      <td>133.0</td>\n",
       "      <td>6100.0</td>\n",
       "      <td>370.0</td>\n",
       "      <td>22.6</td>\n",
       "      <td>240.0</td>\n",
       "    </tr>\n",
       "    <tr>\n",
       "      <th>november</th>\n",
       "      <td>3.0</td>\n",
       "      <td>56.0</td>\n",
       "      <td>5.0</td>\n",
       "      <td>13.0</td>\n",
       "      <td>3</td>\n",
       "      <td>3</td>\n",
       "      <td>1.9</td>\n",
       "      <td>60.0</td>\n",
       "      <td>2980.0</td>\n",
       "      <td>220.0</td>\n",
       "      <td>11.1</td>\n",
       "      <td>140.0</td>\n",
       "    </tr>\n",
       "    <tr>\n",
       "      <th>september</th>\n",
       "      <td>9.0</td>\n",
       "      <td>150.0</td>\n",
       "      <td>15.0</td>\n",
       "      <td>31.0</td>\n",
       "      <td>6</td>\n",
       "      <td>9</td>\n",
       "      <td>3.3</td>\n",
       "      <td>182.0</td>\n",
       "      <td>9160.0</td>\n",
       "      <td>570.0</td>\n",
       "      <td>23.9</td>\n",
       "      <td>410.0</td>\n",
       "    </tr>\n",
       "  </tbody>\n",
       "</table>\n",
       "</div>"
      ],
      "text/plain": [
       "           corridor   hour  group size  moonphase  passage_wo  passage  \\\n",
       "date.1                                                                   \n",
       "april           3.0   20.0         1.0        1.0           0        1   \n",
       "augusti         9.0   49.0         5.0       18.0           4        5   \n",
       "december       19.0   91.0        37.0       35.0           0        7   \n",
       "februari        3.0   23.0         1.0        6.0           1        1   \n",
       "januari         7.0   15.0         3.0       11.0           2        3   \n",
       "juli           26.0  137.0        32.0       30.0           7       12   \n",
       "juni           12.0  107.0        12.0       27.0           5        8   \n",
       "maj            14.0  163.0        50.0       67.0           4       14   \n",
       "mars            8.0   98.0         6.0       27.0           3        6   \n",
       "november        3.0   56.0         5.0       13.0           3        3   \n",
       "september       9.0  150.0        15.0       31.0           6        9   \n",
       "\n",
       "           moon luminosity  mean temp  pressure  humidity  wind speed  \\\n",
       "date.1                                                                  \n",
       "april                  0.0       21.0    1010.0      70.0         3.0   \n",
       "augusti                2.4       92.0    4740.0     340.0        10.7   \n",
       "december               1.0      153.0    7140.0     490.0        30.8   \n",
       "februari               1.0       23.0    1010.0      50.0         5.3   \n",
       "januari                0.9       65.0    3050.0     200.0        10.2   \n",
       "juli                   4.8      221.0   12060.0     850.0        28.4   \n",
       "juni                   5.1      160.0    7800.0     600.0        19.5   \n",
       "maj                    4.9      283.0   14130.0    1070.0        38.1   \n",
       "mars                   4.1      133.0    6100.0     370.0        22.6   \n",
       "november               1.9       60.0    2980.0     220.0        11.1   \n",
       "september              3.3      182.0    9160.0     570.0        23.9   \n",
       "\n",
       "           cloud coverage  \n",
       "date.1                     \n",
       "april                40.0  \n",
       "augusti             250.0  \n",
       "december            340.0  \n",
       "februari             50.0  \n",
       "januari             170.0  \n",
       "juli                830.0  \n",
       "juni                450.0  \n",
       "maj                 820.0  \n",
       "mars                240.0  \n",
       "november            140.0  \n",
       "september           410.0  "
      ]
     },
     "execution_count": 106,
     "metadata": {},
     "output_type": "execute_result"
    }
   ],
   "source": [
    "one_three"
   ]
  },
  {
   "cell_type": "code",
   "execution_count": 107,
   "metadata": {},
   "outputs": [
    {
     "data": {
      "text/html": [
       "<div>\n",
       "<style scoped>\n",
       "    .dataframe tbody tr th:only-of-type {\n",
       "        vertical-align: middle;\n",
       "    }\n",
       "\n",
       "    .dataframe tbody tr th {\n",
       "        vertical-align: top;\n",
       "    }\n",
       "\n",
       "    .dataframe thead th {\n",
       "        text-align: right;\n",
       "    }\n",
       "</style>\n",
       "<table border=\"1\" class=\"dataframe\">\n",
       "  <thead>\n",
       "    <tr style=\"text-align: right;\">\n",
       "      <th></th>\n",
       "      <th>corridor</th>\n",
       "      <th>hour</th>\n",
       "      <th>group size</th>\n",
       "      <th>moonphase</th>\n",
       "      <th>passage_wo</th>\n",
       "      <th>passage</th>\n",
       "      <th>moon luminosity</th>\n",
       "      <th>mean temp</th>\n",
       "      <th>pressure</th>\n",
       "      <th>humidity</th>\n",
       "      <th>wind speed</th>\n",
       "      <th>cloud coverage</th>\n",
       "    </tr>\n",
       "    <tr>\n",
       "      <th>date.1</th>\n",
       "      <th></th>\n",
       "      <th></th>\n",
       "      <th></th>\n",
       "      <th></th>\n",
       "      <th></th>\n",
       "      <th></th>\n",
       "      <th></th>\n",
       "      <th></th>\n",
       "      <th></th>\n",
       "      <th></th>\n",
       "      <th></th>\n",
       "      <th></th>\n",
       "    </tr>\n",
       "  </thead>\n",
       "  <tbody>\n",
       "    <tr>\n",
       "      <th>april</th>\n",
       "      <td>92.0</td>\n",
       "      <td>529.0</td>\n",
       "      <td>74.0</td>\n",
       "      <td>168.0</td>\n",
       "      <td>34</td>\n",
       "      <td>46</td>\n",
       "      <td>15.4</td>\n",
       "      <td>999.0</td>\n",
       "      <td>46790.0</td>\n",
       "      <td>3380.0</td>\n",
       "      <td>149.8</td>\n",
       "      <td>2650.0</td>\n",
       "    </tr>\n",
       "    <tr>\n",
       "      <th>augusti</th>\n",
       "      <td>140.0</td>\n",
       "      <td>795.0</td>\n",
       "      <td>220.0</td>\n",
       "      <td>383.0</td>\n",
       "      <td>49</td>\n",
       "      <td>70</td>\n",
       "      <td>32.7</td>\n",
       "      <td>1323.0</td>\n",
       "      <td>67730.0</td>\n",
       "      <td>4960.0</td>\n",
       "      <td>175.6</td>\n",
       "      <td>3770.0</td>\n",
       "    </tr>\n",
       "    <tr>\n",
       "      <th>december</th>\n",
       "      <td>162.0</td>\n",
       "      <td>797.0</td>\n",
       "      <td>189.0</td>\n",
       "      <td>327.0</td>\n",
       "      <td>64</td>\n",
       "      <td>81</td>\n",
       "      <td>35.7</td>\n",
       "      <td>1706.0</td>\n",
       "      <td>82550.0</td>\n",
       "      <td>5630.0</td>\n",
       "      <td>315.2</td>\n",
       "      <td>3730.0</td>\n",
       "    </tr>\n",
       "    <tr>\n",
       "      <th>februari</th>\n",
       "      <td>60.0</td>\n",
       "      <td>276.0</td>\n",
       "      <td>74.0</td>\n",
       "      <td>158.0</td>\n",
       "      <td>24</td>\n",
       "      <td>30</td>\n",
       "      <td>21.1</td>\n",
       "      <td>674.0</td>\n",
       "      <td>28470.0</td>\n",
       "      <td>1810.0</td>\n",
       "      <td>111.5</td>\n",
       "      <td>990.0</td>\n",
       "    </tr>\n",
       "    <tr>\n",
       "      <th>januari</th>\n",
       "      <td>70.0</td>\n",
       "      <td>342.0</td>\n",
       "      <td>65.0</td>\n",
       "      <td>201.0</td>\n",
       "      <td>35</td>\n",
       "      <td>35</td>\n",
       "      <td>27.8</td>\n",
       "      <td>743.0</td>\n",
       "      <td>35520.0</td>\n",
       "      <td>2120.0</td>\n",
       "      <td>119.3</td>\n",
       "      <td>1590.0</td>\n",
       "    </tr>\n",
       "    <tr>\n",
       "      <th>juli</th>\n",
       "      <td>182.0</td>\n",
       "      <td>1178.0</td>\n",
       "      <td>329.0</td>\n",
       "      <td>341.0</td>\n",
       "      <td>68</td>\n",
       "      <td>91</td>\n",
       "      <td>32.5</td>\n",
       "      <td>1707.0</td>\n",
       "      <td>91780.0</td>\n",
       "      <td>6580.0</td>\n",
       "      <td>223.7</td>\n",
       "      <td>5590.0</td>\n",
       "    </tr>\n",
       "    <tr>\n",
       "      <th>juni</th>\n",
       "      <td>84.0</td>\n",
       "      <td>624.0</td>\n",
       "      <td>50.0</td>\n",
       "      <td>198.0</td>\n",
       "      <td>37</td>\n",
       "      <td>42</td>\n",
       "      <td>25.0</td>\n",
       "      <td>771.0</td>\n",
       "      <td>39910.0</td>\n",
       "      <td>3440.0</td>\n",
       "      <td>77.3</td>\n",
       "      <td>2700.0</td>\n",
       "    </tr>\n",
       "    <tr>\n",
       "      <th>maj</th>\n",
       "      <td>16.0</td>\n",
       "      <td>83.0</td>\n",
       "      <td>8.0</td>\n",
       "      <td>31.0</td>\n",
       "      <td>8</td>\n",
       "      <td>8</td>\n",
       "      <td>1.3</td>\n",
       "      <td>166.0</td>\n",
       "      <td>8160.0</td>\n",
       "      <td>580.0</td>\n",
       "      <td>20.5</td>\n",
       "      <td>410.0</td>\n",
       "    </tr>\n",
       "    <tr>\n",
       "      <th>mars</th>\n",
       "      <td>88.0</td>\n",
       "      <td>394.0</td>\n",
       "      <td>60.0</td>\n",
       "      <td>216.0</td>\n",
       "      <td>35</td>\n",
       "      <td>44</td>\n",
       "      <td>24.4</td>\n",
       "      <td>989.0</td>\n",
       "      <td>44690.0</td>\n",
       "      <td>2910.0</td>\n",
       "      <td>142.6</td>\n",
       "      <td>2090.0</td>\n",
       "    </tr>\n",
       "    <tr>\n",
       "      <th>november</th>\n",
       "      <td>108.0</td>\n",
       "      <td>684.0</td>\n",
       "      <td>106.0</td>\n",
       "      <td>192.0</td>\n",
       "      <td>41</td>\n",
       "      <td>54</td>\n",
       "      <td>23.0</td>\n",
       "      <td>1101.0</td>\n",
       "      <td>54890.0</td>\n",
       "      <td>4160.0</td>\n",
       "      <td>186.8</td>\n",
       "      <td>3090.0</td>\n",
       "    </tr>\n",
       "    <tr>\n",
       "      <th>oktober</th>\n",
       "      <td>214.0</td>\n",
       "      <td>1325.0</td>\n",
       "      <td>153.0</td>\n",
       "      <td>405.0</td>\n",
       "      <td>98</td>\n",
       "      <td>107</td>\n",
       "      <td>54.1</td>\n",
       "      <td>2227.0</td>\n",
       "      <td>99930.0</td>\n",
       "      <td>6870.0</td>\n",
       "      <td>287.5</td>\n",
       "      <td>3560.0</td>\n",
       "    </tr>\n",
       "    <tr>\n",
       "      <th>september</th>\n",
       "      <td>70.0</td>\n",
       "      <td>457.0</td>\n",
       "      <td>66.0</td>\n",
       "      <td>104.0</td>\n",
       "      <td>35</td>\n",
       "      <td>35</td>\n",
       "      <td>10.3</td>\n",
       "      <td>689.0</td>\n",
       "      <td>35480.0</td>\n",
       "      <td>2190.0</td>\n",
       "      <td>93.4</td>\n",
       "      <td>1410.0</td>\n",
       "    </tr>\n",
       "  </tbody>\n",
       "</table>\n",
       "</div>"
      ],
      "text/plain": [
       "           corridor    hour  group size  moonphase  passage_wo  passage  \\\n",
       "date.1                                                                    \n",
       "april          92.0   529.0        74.0      168.0          34       46   \n",
       "augusti       140.0   795.0       220.0      383.0          49       70   \n",
       "december      162.0   797.0       189.0      327.0          64       81   \n",
       "februari       60.0   276.0        74.0      158.0          24       30   \n",
       "januari        70.0   342.0        65.0      201.0          35       35   \n",
       "juli          182.0  1178.0       329.0      341.0          68       91   \n",
       "juni           84.0   624.0        50.0      198.0          37       42   \n",
       "maj            16.0    83.0         8.0       31.0           8        8   \n",
       "mars           88.0   394.0        60.0      216.0          35       44   \n",
       "november      108.0   684.0       106.0      192.0          41       54   \n",
       "oktober       214.0  1325.0       153.0      405.0          98      107   \n",
       "september      70.0   457.0        66.0      104.0          35       35   \n",
       "\n",
       "           moon luminosity  mean temp  pressure  humidity  wind speed  \\\n",
       "date.1                                                                  \n",
       "april                 15.4      999.0   46790.0    3380.0       149.8   \n",
       "augusti               32.7     1323.0   67730.0    4960.0       175.6   \n",
       "december              35.7     1706.0   82550.0    5630.0       315.2   \n",
       "februari              21.1      674.0   28470.0    1810.0       111.5   \n",
       "januari               27.8      743.0   35520.0    2120.0       119.3   \n",
       "juli                  32.5     1707.0   91780.0    6580.0       223.7   \n",
       "juni                  25.0      771.0   39910.0    3440.0        77.3   \n",
       "maj                    1.3      166.0    8160.0     580.0        20.5   \n",
       "mars                  24.4      989.0   44690.0    2910.0       142.6   \n",
       "november              23.0     1101.0   54890.0    4160.0       186.8   \n",
       "oktober               54.1     2227.0   99930.0    6870.0       287.5   \n",
       "september             10.3      689.0   35480.0    2190.0        93.4   \n",
       "\n",
       "           cloud coverage  \n",
       "date.1                     \n",
       "april              2650.0  \n",
       "augusti            3770.0  \n",
       "december           3730.0  \n",
       "februari            990.0  \n",
       "januari            1590.0  \n",
       "juli               5590.0  \n",
       "juni               2700.0  \n",
       "maj                 410.0  \n",
       "mars               2090.0  \n",
       "november           3090.0  \n",
       "oktober            3560.0  \n",
       "september          1410.0  "
      ]
     },
     "execution_count": 107,
     "metadata": {},
     "output_type": "execute_result"
    }
   ],
   "source": [
    "two"
   ]
  },
  {
   "cell_type": "code",
   "execution_count": 108,
   "metadata": {},
   "outputs": [
    {
     "data": {
      "text/plain": [
       "Ttest_indResult(statistic=-5.752764266227263, pvalue=1.0381610013750746e-05)"
      ]
     },
     "execution_count": 108,
     "metadata": {},
     "output_type": "execute_result"
    }
   ],
   "source": [
    "# student's\n",
    "ttest_ind(one_three['passage_wo'], two['passage_wo'], equal_var=True)"
   ]
  },
  {
   "cell_type": "code",
   "execution_count": 109,
   "metadata": {},
   "outputs": [
    {
     "data": {
      "text/plain": [
       "Ttest_indResult(statistic=-6.01516136548963, pvalue=7.997912080633197e-05)"
      ]
     },
     "execution_count": 109,
     "metadata": {},
     "output_type": "execute_result"
    }
   ],
   "source": [
    "# welch's\n",
    "ttest_ind(one_three['passage_wo'], two['passage_wo'], equal_var=False)"
   ]
  },
  {
   "cell_type": "code",
   "execution_count": 148,
   "metadata": {},
   "outputs": [],
   "source": [
    "before = gi[(gi.date < '2017-04-25') & (gi.corridor.isin([1,2]))].groupby('date').sum()\n",
    "after = gi[(gi.date >= '2017-04-25') & (gi.corridor.isin([1,2]))].groupby('date').sum()"
   ]
  },
  {
   "cell_type": "code",
   "execution_count": 149,
   "metadata": {},
   "outputs": [
    {
     "data": {
      "text/plain": [
       "Ttest_indResult(statistic=0.07803939862496231, pvalue=0.9378465772092923)"
      ]
     },
     "execution_count": 149,
     "metadata": {},
     "output_type": "execute_result"
    }
   ],
   "source": [
    "ttest_ind(before['passage_wo'], after['passage_wo'], equal_var=True)"
   ]
  },
  {
   "cell_type": "code",
   "execution_count": 150,
   "metadata": {
    "scrolled": true
   },
   "outputs": [
    {
     "data": {
      "text/plain": [
       "Ttest_indResult(statistic=0.07837265608166159, pvalue=0.9375817232050238)"
      ]
     },
     "execution_count": 150,
     "metadata": {},
     "output_type": "execute_result"
    }
   ],
   "source": [
    "ttest_ind(before['passage_wo'], after['passage_wo'], equal_var=False)"
   ]
  },
  {
   "cell_type": "code",
   "execution_count": 229,
   "metadata": {},
   "outputs": [],
   "source": [
    "dark_hours = [20, 21, 22, 23, 0, 1, 2, 3, 4, 5]"
   ]
  },
  {
   "cell_type": "code",
   "execution_count": 234,
   "metadata": {},
   "outputs": [],
   "source": [
    "dh = gi[gi.hour.isin(dark_hours)].groupby('moonphase').sum().reset_index()"
   ]
  },
  {
   "cell_type": "code",
   "execution_count": 235,
   "metadata": {},
   "outputs": [
    {
     "name": "stdout",
     "output_type": "stream",
     "text": [
      "std for summed passages per moon phases: 8.940777371123833\n",
      "mean for summed passages per moon phase: 16.75\n"
     ]
    }
   ],
   "source": [
    "print('std for {}: {}'.format('summed passages per moon phases', np.std(dh['passage_wo'])))\n",
    "print('mean for {}: {}'.format('summed passages per moon phase', np.mean(dh['passage_wo'])))"
   ]
  },
  {
   "cell_type": "code",
   "execution_count": 236,
   "metadata": {},
   "outputs": [],
   "source": [
    "lum1 = dh[dh.moonphase.isin([1,2,8])] # IN moonphase 1,2,8\n",
    "lum2 = dh[~dh.moonphase.isin([1,2,8])] # NOT IN moonphase 1,2,8"
   ]
  },
  {
   "cell_type": "code",
   "execution_count": 245,
   "metadata": {},
   "outputs": [
    {
     "data": {
      "text/html": [
       "<div>\n",
       "<style scoped>\n",
       "    .dataframe tbody tr th:only-of-type {\n",
       "        vertical-align: middle;\n",
       "    }\n",
       "\n",
       "    .dataframe tbody tr th {\n",
       "        vertical-align: top;\n",
       "    }\n",
       "\n",
       "    .dataframe thead th {\n",
       "        text-align: right;\n",
       "    }\n",
       "</style>\n",
       "<table border=\"1\" class=\"dataframe\">\n",
       "  <thead>\n",
       "    <tr style=\"text-align: right;\">\n",
       "      <th></th>\n",
       "      <th>moonphase</th>\n",
       "      <th>corridor</th>\n",
       "      <th>hour</th>\n",
       "      <th>group size</th>\n",
       "      <th>passage_wo</th>\n",
       "      <th>passage</th>\n",
       "      <th>moon luminosity</th>\n",
       "      <th>mean temp</th>\n",
       "      <th>pressure</th>\n",
       "      <th>humidity</th>\n",
       "      <th>wind speed</th>\n",
       "      <th>cloud coverage</th>\n",
       "    </tr>\n",
       "  </thead>\n",
       "  <tbody>\n",
       "    <tr>\n",
       "      <th>0</th>\n",
       "      <td>1.0</td>\n",
       "      <td>31.0</td>\n",
       "      <td>130.0</td>\n",
       "      <td>17.0</td>\n",
       "      <td>8</td>\n",
       "      <td>15</td>\n",
       "      <td>0.0</td>\n",
       "      <td>313.0</td>\n",
       "      <td>15210.0</td>\n",
       "      <td>1070.0</td>\n",
       "      <td>48.5</td>\n",
       "      <td>760.0</td>\n",
       "    </tr>\n",
       "    <tr>\n",
       "      <th>1</th>\n",
       "      <td>2.0</td>\n",
       "      <td>15.0</td>\n",
       "      <td>82.0</td>\n",
       "      <td>8.0</td>\n",
       "      <td>7</td>\n",
       "      <td>8</td>\n",
       "      <td>1.3</td>\n",
       "      <td>162.0</td>\n",
       "      <td>8150.0</td>\n",
       "      <td>600.0</td>\n",
       "      <td>24.5</td>\n",
       "      <td>490.0</td>\n",
       "    </tr>\n",
       "    <tr>\n",
       "      <th>7</th>\n",
       "      <td>8.0</td>\n",
       "      <td>18.0</td>\n",
       "      <td>66.0</td>\n",
       "      <td>11.0</td>\n",
       "      <td>9</td>\n",
       "      <td>9</td>\n",
       "      <td>2.5</td>\n",
       "      <td>185.0</td>\n",
       "      <td>9160.0</td>\n",
       "      <td>630.0</td>\n",
       "      <td>24.6</td>\n",
       "      <td>500.0</td>\n",
       "    </tr>\n",
       "  </tbody>\n",
       "</table>\n",
       "</div>"
      ],
      "text/plain": [
       "   moonphase  corridor   hour  group size  passage_wo  passage  \\\n",
       "0        1.0      31.0  130.0        17.0           8       15   \n",
       "1        2.0      15.0   82.0         8.0           7        8   \n",
       "7        8.0      18.0   66.0        11.0           9        9   \n",
       "\n",
       "   moon luminosity  mean temp  pressure  humidity  wind speed  cloud coverage  \n",
       "0              0.0      313.0   15210.0    1070.0        48.5           760.0  \n",
       "1              1.3      162.0    8150.0     600.0        24.5           490.0  \n",
       "7              2.5      185.0    9160.0     630.0        24.6           500.0  "
      ]
     },
     "execution_count": 245,
     "metadata": {},
     "output_type": "execute_result"
    }
   ],
   "source": [
    "lum1"
   ]
  },
  {
   "cell_type": "code",
   "execution_count": 238,
   "metadata": {},
   "outputs": [
    {
     "name": "stdout",
     "output_type": "stream",
     "text": [
      "std for lum1: 0.816496580927726\n",
      "mean for lum1: 8.0\n"
     ]
    }
   ],
   "source": [
    "print('std for {}: {}'.format('lum1', np.std(lum1['passage_wo'])))\n",
    "print('mean for {}: {}'.format('lum1', np.mean(lum1['passage_wo'])))"
   ]
  },
  {
   "cell_type": "code",
   "execution_count": 246,
   "metadata": {},
   "outputs": [
    {
     "data": {
      "text/html": [
       "<div>\n",
       "<style scoped>\n",
       "    .dataframe tbody tr th:only-of-type {\n",
       "        vertical-align: middle;\n",
       "    }\n",
       "\n",
       "    .dataframe tbody tr th {\n",
       "        vertical-align: top;\n",
       "    }\n",
       "\n",
       "    .dataframe thead th {\n",
       "        text-align: right;\n",
       "    }\n",
       "</style>\n",
       "<table border=\"1\" class=\"dataframe\">\n",
       "  <thead>\n",
       "    <tr style=\"text-align: right;\">\n",
       "      <th></th>\n",
       "      <th>moonphase</th>\n",
       "      <th>corridor</th>\n",
       "      <th>hour</th>\n",
       "      <th>group size</th>\n",
       "      <th>passage_wo</th>\n",
       "      <th>passage</th>\n",
       "      <th>moon luminosity</th>\n",
       "      <th>mean temp</th>\n",
       "      <th>pressure</th>\n",
       "      <th>humidity</th>\n",
       "      <th>wind speed</th>\n",
       "      <th>cloud coverage</th>\n",
       "    </tr>\n",
       "  </thead>\n",
       "  <tbody>\n",
       "    <tr>\n",
       "      <th>2</th>\n",
       "      <td>3.0</td>\n",
       "      <td>73.0</td>\n",
       "      <td>661.0</td>\n",
       "      <td>62.0</td>\n",
       "      <td>34</td>\n",
       "      <td>38</td>\n",
       "      <td>20.1</td>\n",
       "      <td>814.0</td>\n",
       "      <td>37650.0</td>\n",
       "      <td>2560.0</td>\n",
       "      <td>122.9</td>\n",
       "      <td>1670.0</td>\n",
       "    </tr>\n",
       "    <tr>\n",
       "      <th>3</th>\n",
       "      <td>4.0</td>\n",
       "      <td>61.0</td>\n",
       "      <td>390.0</td>\n",
       "      <td>34.0</td>\n",
       "      <td>26</td>\n",
       "      <td>32</td>\n",
       "      <td>25.0</td>\n",
       "      <td>665.0</td>\n",
       "      <td>30510.0</td>\n",
       "      <td>1990.0</td>\n",
       "      <td>91.1</td>\n",
       "      <td>1110.0</td>\n",
       "    </tr>\n",
       "    <tr>\n",
       "      <th>4</th>\n",
       "      <td>5.0</td>\n",
       "      <td>34.0</td>\n",
       "      <td>125.0</td>\n",
       "      <td>28.0</td>\n",
       "      <td>17</td>\n",
       "      <td>18</td>\n",
       "      <td>17.7</td>\n",
       "      <td>362.0</td>\n",
       "      <td>17780.0</td>\n",
       "      <td>1210.0</td>\n",
       "      <td>62.2</td>\n",
       "      <td>780.0</td>\n",
       "    </tr>\n",
       "    <tr>\n",
       "      <th>5</th>\n",
       "      <td>6.0</td>\n",
       "      <td>29.0</td>\n",
       "      <td>108.0</td>\n",
       "      <td>16.0</td>\n",
       "      <td>13</td>\n",
       "      <td>14</td>\n",
       "      <td>11.6</td>\n",
       "      <td>297.0</td>\n",
       "      <td>14060.0</td>\n",
       "      <td>920.0</td>\n",
       "      <td>44.8</td>\n",
       "      <td>720.0</td>\n",
       "    </tr>\n",
       "    <tr>\n",
       "      <th>6</th>\n",
       "      <td>7.0</td>\n",
       "      <td>47.0</td>\n",
       "      <td>85.0</td>\n",
       "      <td>38.0</td>\n",
       "      <td>20</td>\n",
       "      <td>25</td>\n",
       "      <td>14.1</td>\n",
       "      <td>525.0</td>\n",
       "      <td>24480.0</td>\n",
       "      <td>1770.0</td>\n",
       "      <td>76.7</td>\n",
       "      <td>1190.0</td>\n",
       "    </tr>\n",
       "  </tbody>\n",
       "</table>\n",
       "</div>"
      ],
      "text/plain": [
       "   moonphase  corridor   hour  group size  passage_wo  passage  \\\n",
       "2        3.0      73.0  661.0        62.0          34       38   \n",
       "3        4.0      61.0  390.0        34.0          26       32   \n",
       "4        5.0      34.0  125.0        28.0          17       18   \n",
       "5        6.0      29.0  108.0        16.0          13       14   \n",
       "6        7.0      47.0   85.0        38.0          20       25   \n",
       "\n",
       "   moon luminosity  mean temp  pressure  humidity  wind speed  cloud coverage  \n",
       "2             20.1      814.0   37650.0    2560.0       122.9          1670.0  \n",
       "3             25.0      665.0   30510.0    1990.0        91.1          1110.0  \n",
       "4             17.7      362.0   17780.0    1210.0        62.2           780.0  \n",
       "5             11.6      297.0   14060.0     920.0        44.8           720.0  \n",
       "6             14.1      525.0   24480.0    1770.0        76.7          1190.0  "
      ]
     },
     "execution_count": 246,
     "metadata": {},
     "output_type": "execute_result"
    }
   ],
   "source": [
    "lum2"
   ]
  },
  {
   "cell_type": "code",
   "execution_count": 239,
   "metadata": {},
   "outputs": [
    {
     "name": "stdout",
     "output_type": "stream",
     "text": [
      "std for lum2: 7.3484692283495345\n",
      "mean for lum2: 22.0\n"
     ]
    }
   ],
   "source": [
    "print('std for {}: {}'.format('lum2', np.std(lum2['passage_wo'])))\n",
    "print('mean for {}: {}'.format('lum2', np.mean(lum2['passage_wo'])))"
   ]
  },
  {
   "cell_type": "code",
   "execution_count": 242,
   "metadata": {},
   "outputs": [],
   "source": [
    "date_sum = gi.groupby('date.1').sum()"
   ]
  },
  {
   "cell_type": "code",
   "execution_count": 244,
   "metadata": {},
   "outputs": [
    {
     "data": {
      "text/html": [
       "<div>\n",
       "<style scoped>\n",
       "    .dataframe tbody tr th:only-of-type {\n",
       "        vertical-align: middle;\n",
       "    }\n",
       "\n",
       "    .dataframe tbody tr th {\n",
       "        vertical-align: top;\n",
       "    }\n",
       "\n",
       "    .dataframe thead th {\n",
       "        text-align: right;\n",
       "    }\n",
       "</style>\n",
       "<table border=\"1\" class=\"dataframe\">\n",
       "  <thead>\n",
       "    <tr style=\"text-align: right;\">\n",
       "      <th></th>\n",
       "      <th>corridor</th>\n",
       "      <th>hour</th>\n",
       "      <th>group size</th>\n",
       "      <th>moonphase</th>\n",
       "      <th>passage_wo</th>\n",
       "      <th>passage</th>\n",
       "      <th>moon luminosity</th>\n",
       "      <th>mean temp</th>\n",
       "      <th>pressure</th>\n",
       "      <th>humidity</th>\n",
       "      <th>wind speed</th>\n",
       "      <th>cloud coverage</th>\n",
       "    </tr>\n",
       "    <tr>\n",
       "      <th>date.1</th>\n",
       "      <th></th>\n",
       "      <th></th>\n",
       "      <th></th>\n",
       "      <th></th>\n",
       "      <th></th>\n",
       "      <th></th>\n",
       "      <th></th>\n",
       "      <th></th>\n",
       "      <th></th>\n",
       "      <th></th>\n",
       "      <th></th>\n",
       "      <th></th>\n",
       "    </tr>\n",
       "  </thead>\n",
       "  <tbody>\n",
       "    <tr>\n",
       "      <th>april</th>\n",
       "      <td>95.0</td>\n",
       "      <td>549.0</td>\n",
       "      <td>75.0</td>\n",
       "      <td>169.0</td>\n",
       "      <td>34</td>\n",
       "      <td>47</td>\n",
       "      <td>50.4</td>\n",
       "      <td>2372.0</td>\n",
       "      <td>112590.0</td>\n",
       "      <td>8410.0</td>\n",
       "      <td>347.6</td>\n",
       "      <td>6650.0</td>\n",
       "    </tr>\n",
       "    <tr>\n",
       "      <th>augusti</th>\n",
       "      <td>149.0</td>\n",
       "      <td>844.0</td>\n",
       "      <td>225.0</td>\n",
       "      <td>401.0</td>\n",
       "      <td>53</td>\n",
       "      <td>75</td>\n",
       "      <td>71.4</td>\n",
       "      <td>2714.0</td>\n",
       "      <td>141060.0</td>\n",
       "      <td>10080.0</td>\n",
       "      <td>356.4</td>\n",
       "      <td>8010.0</td>\n",
       "    </tr>\n",
       "    <tr>\n",
       "      <th>december</th>\n",
       "      <td>181.0</td>\n",
       "      <td>888.0</td>\n",
       "      <td>226.0</td>\n",
       "      <td>362.0</td>\n",
       "      <td>64</td>\n",
       "      <td>88</td>\n",
       "      <td>58.6</td>\n",
       "      <td>2785.0</td>\n",
       "      <td>134480.0</td>\n",
       "      <td>9200.0</td>\n",
       "      <td>508.9</td>\n",
       "      <td>5980.0</td>\n",
       "    </tr>\n",
       "    <tr>\n",
       "      <th>februari</th>\n",
       "      <td>63.0</td>\n",
       "      <td>299.0</td>\n",
       "      <td>75.0</td>\n",
       "      <td>164.0</td>\n",
       "      <td>25</td>\n",
       "      <td>31</td>\n",
       "      <td>50.2</td>\n",
       "      <td>2041.0</td>\n",
       "      <td>90940.0</td>\n",
       "      <td>5600.0</td>\n",
       "      <td>366.0</td>\n",
       "      <td>3040.0</td>\n",
       "    </tr>\n",
       "    <tr>\n",
       "      <th>januari</th>\n",
       "      <td>77.0</td>\n",
       "      <td>357.0</td>\n",
       "      <td>68.0</td>\n",
       "      <td>212.0</td>\n",
       "      <td>37</td>\n",
       "      <td>38</td>\n",
       "      <td>62.0</td>\n",
       "      <td>2402.0</td>\n",
       "      <td>112610.0</td>\n",
       "      <td>6960.0</td>\n",
       "      <td>389.6</td>\n",
       "      <td>4480.0</td>\n",
       "    </tr>\n",
       "    <tr>\n",
       "      <th>juli</th>\n",
       "      <td>208.0</td>\n",
       "      <td>1315.0</td>\n",
       "      <td>361.0</td>\n",
       "      <td>371.0</td>\n",
       "      <td>75</td>\n",
       "      <td>103</td>\n",
       "      <td>68.1</td>\n",
       "      <td>2980.0</td>\n",
       "      <td>161190.0</td>\n",
       "      <td>11510.0</td>\n",
       "      <td>390.6</td>\n",
       "      <td>9930.0</td>\n",
       "    </tr>\n",
       "    <tr>\n",
       "      <th>juni</th>\n",
       "      <td>96.0</td>\n",
       "      <td>731.0</td>\n",
       "      <td>62.0</td>\n",
       "      <td>225.0</td>\n",
       "      <td>42</td>\n",
       "      <td>50</td>\n",
       "      <td>61.3</td>\n",
       "      <td>2188.0</td>\n",
       "      <td>113230.0</td>\n",
       "      <td>9190.0</td>\n",
       "      <td>238.6</td>\n",
       "      <td>7250.0</td>\n",
       "    </tr>\n",
       "    <tr>\n",
       "      <th>maj</th>\n",
       "      <td>30.0</td>\n",
       "      <td>246.0</td>\n",
       "      <td>58.0</td>\n",
       "      <td>98.0</td>\n",
       "      <td>12</td>\n",
       "      <td>22</td>\n",
       "      <td>50.0</td>\n",
       "      <td>2093.0</td>\n",
       "      <td>105300.0</td>\n",
       "      <td>8160.0</td>\n",
       "      <td>265.1</td>\n",
       "      <td>6350.0</td>\n",
       "    </tr>\n",
       "    <tr>\n",
       "      <th>mars</th>\n",
       "      <td>96.0</td>\n",
       "      <td>492.0</td>\n",
       "      <td>66.0</td>\n",
       "      <td>243.0</td>\n",
       "      <td>38</td>\n",
       "      <td>50</td>\n",
       "      <td>48.3</td>\n",
       "      <td>2066.0</td>\n",
       "      <td>93450.0</td>\n",
       "      <td>6130.0</td>\n",
       "      <td>319.6</td>\n",
       "      <td>4390.0</td>\n",
       "    </tr>\n",
       "    <tr>\n",
       "      <th>november</th>\n",
       "      <td>111.0</td>\n",
       "      <td>740.0</td>\n",
       "      <td>111.0</td>\n",
       "      <td>205.0</td>\n",
       "      <td>45</td>\n",
       "      <td>58</td>\n",
       "      <td>54.4</td>\n",
       "      <td>2345.0</td>\n",
       "      <td>116620.0</td>\n",
       "      <td>8960.0</td>\n",
       "      <td>396.4</td>\n",
       "      <td>6830.0</td>\n",
       "    </tr>\n",
       "    <tr>\n",
       "      <th>oktober</th>\n",
       "      <td>214.0</td>\n",
       "      <td>1325.0</td>\n",
       "      <td>153.0</td>\n",
       "      <td>405.0</td>\n",
       "      <td>98</td>\n",
       "      <td>107</td>\n",
       "      <td>76.9</td>\n",
       "      <td>3106.0</td>\n",
       "      <td>140250.0</td>\n",
       "      <td>9630.0</td>\n",
       "      <td>421.3</td>\n",
       "      <td>5720.0</td>\n",
       "    </tr>\n",
       "    <tr>\n",
       "      <th>september</th>\n",
       "      <td>79.0</td>\n",
       "      <td>607.0</td>\n",
       "      <td>81.0</td>\n",
       "      <td>135.0</td>\n",
       "      <td>41</td>\n",
       "      <td>44</td>\n",
       "      <td>44.2</td>\n",
       "      <td>1926.0</td>\n",
       "      <td>98470.0</td>\n",
       "      <td>6260.0</td>\n",
       "      <td>267.4</td>\n",
       "      <td>4730.0</td>\n",
       "    </tr>\n",
       "  </tbody>\n",
       "</table>\n",
       "</div>"
      ],
      "text/plain": [
       "           corridor    hour  group size  moonphase  passage_wo  passage  \\\n",
       "date.1                                                                    \n",
       "april          95.0   549.0        75.0      169.0          34       47   \n",
       "augusti       149.0   844.0       225.0      401.0          53       75   \n",
       "december      181.0   888.0       226.0      362.0          64       88   \n",
       "februari       63.0   299.0        75.0      164.0          25       31   \n",
       "januari        77.0   357.0        68.0      212.0          37       38   \n",
       "juli          208.0  1315.0       361.0      371.0          75      103   \n",
       "juni           96.0   731.0        62.0      225.0          42       50   \n",
       "maj            30.0   246.0        58.0       98.0          12       22   \n",
       "mars           96.0   492.0        66.0      243.0          38       50   \n",
       "november      111.0   740.0       111.0      205.0          45       58   \n",
       "oktober       214.0  1325.0       153.0      405.0          98      107   \n",
       "september      79.0   607.0        81.0      135.0          41       44   \n",
       "\n",
       "           moon luminosity  mean temp  pressure  humidity  wind speed  \\\n",
       "date.1                                                                  \n",
       "april                 50.4     2372.0  112590.0    8410.0       347.6   \n",
       "augusti               71.4     2714.0  141060.0   10080.0       356.4   \n",
       "december              58.6     2785.0  134480.0    9200.0       508.9   \n",
       "februari              50.2     2041.0   90940.0    5600.0       366.0   \n",
       "januari               62.0     2402.0  112610.0    6960.0       389.6   \n",
       "juli                  68.1     2980.0  161190.0   11510.0       390.6   \n",
       "juni                  61.3     2188.0  113230.0    9190.0       238.6   \n",
       "maj                   50.0     2093.0  105300.0    8160.0       265.1   \n",
       "mars                  48.3     2066.0   93450.0    6130.0       319.6   \n",
       "november              54.4     2345.0  116620.0    8960.0       396.4   \n",
       "oktober               76.9     3106.0  140250.0    9630.0       421.3   \n",
       "september             44.2     1926.0   98470.0    6260.0       267.4   \n",
       "\n",
       "           cloud coverage  \n",
       "date.1                     \n",
       "april              6650.0  \n",
       "augusti            8010.0  \n",
       "december           5980.0  \n",
       "februari           3040.0  \n",
       "januari            4480.0  \n",
       "juli               9930.0  \n",
       "juni               7250.0  \n",
       "maj                6350.0  \n",
       "mars               4390.0  \n",
       "november           6830.0  \n",
       "oktober            5720.0  \n",
       "september          4730.0  "
      ]
     },
     "execution_count": 244,
     "metadata": {},
     "output_type": "execute_result"
    }
   ],
   "source": [
    "date_sum"
   ]
  },
  {
   "cell_type": "code",
   "execution_count": 243,
   "metadata": {
    "scrolled": true
   },
   "outputs": [
    {
     "name": "stdout",
     "output_type": "stream",
     "text": [
      "std for passages date summed: 22.049187437787058\n",
      "mean for passages date summed: 47.0\n"
     ]
    }
   ],
   "source": [
    "print('std for {}: {}'.format('passages date summed', np.std(date_sum['passage_wo'])))\n",
    "print('mean for {}: {}'.format('passages date summed', np.mean(date_sum['passage_wo'])))"
   ]
  },
  {
   "cell_type": "code",
   "execution_count": null,
   "metadata": {},
   "outputs": [],
   "source": [
    "gi[gi.hour.isin(dark_hours)].groupby('moonphase').sum()"
   ]
  },
  {
   "cell_type": "code",
   "execution_count": 227,
   "metadata": {},
   "outputs": [
    {
     "data": {
      "text/plain": [
       "<matplotlib.axes._subplots.AxesSubplot at 0x7f82d3e64f28>"
      ]
     },
     "execution_count": 227,
     "metadata": {},
     "output_type": "execute_result"
    },
    {
     "data": {
      "image/png": "[encoded data removed]",
      "text/plain": [
       "<Figure size 864x864 with 1 Axes>"
      ]
     },
     "metadata": {},
     "output_type": "display_data"
    }
   ],
   "source": [
    "fig, ax = plt.subplots(1, figsize=(12,12))\n",
    "sns.distplot(gi.groupby('date').sum()['passage_wo'])"
   ]
  }
 ],
 "metadata": {
  "kernelspec": {
   "display_name": "Python 3",
   "language": "python",
   "name": "python3"
  },
  "language_info": {
   "codemirror_mode": {
    "name": "ipython",
    "version": 3
   },
   "file_extension": ".py",
   "mimetype": "text/x-python",
   "name": "python",
   "nbconvert_exporter": "python",
   "pygments_lexer": "ipython3",
   "version": "3.7.1"
  }
 },
 "nbformat": 4,
 "nbformat_minor": 2
}
